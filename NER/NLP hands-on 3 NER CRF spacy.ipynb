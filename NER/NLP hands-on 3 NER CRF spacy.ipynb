{
 "cells": [
  {
   "cell_type": "markdown",
   "metadata": {
    "id": "TJdVZfGkRrok"
   },
   "source": [
    "### Hands-on 3:\n",
    "\n",
    "* Download and preprocess Named Entity Recognition (NER)  corpus (CONLL 2002)\n",
    "* Prepare CRF model for NER\n",
    "* Run CRF for training and evaluation\n",
    "\n",
    "\n",
    "## Named Entity Recognition (NER) using CRF\n",
    "\n",
    "The task of Named Entity Recognition (NER) involves the recognition of :<br>\n",
    "* names of persons\n",
    "* locations\n",
    "* organizations\n",
    "* dates\n",
    "* ...\n",
    "\n",
    "\n",
    "#### Example \n",
    "\n",
    "For example, the following sentence is tagged with sub-sequences indicating PER (for persons), LOC (for location) and ORG (for organization):\n",
    "\n",
    "<br>\n",
    "\n",
    "Wolff, currently a journalist in Argentina, played with Del Bosque in the final years of the seventies in Real Madrid.\n",
    "\n",
    "<br>\n",
    "\n",
    "\n",
    "_______________\n",
    "\n",
    "<b>[PER Wolff ] </b> , currently a journalist in <b> [LOC Argentina ] </b> , played with <b> [PER Del Bosque ] </b> in the final years  of the seventies in <b> [ORG Real Madrid ] </b> .\n",
    "\n",
    "_______________\n",
    "\n",
    "<br>\n",
    "\n",
    "### NER - Sub Task Involved :\n",
    "\n",
    "NER involves 2 sub-tasks: <br>\n",
    "\n",
    "* identifying the boundaries of such expressions (the open and close brackets) and  \n",
    "* labeling the expressions (with tags such as PER, LOC or ORG). As for the task of chunking, this sequence labeling task is mapped to a classification tag, using a BIO encoding of the data:  <br>\n",
    "\n",
    "### BIO Tagging:\n",
    "\n",
    "The BIO / IOB format (short for inside, outside, beginning) is a common tagging format for tagging tokens in a chunking task in computational linguistics (ex. named-entity recognition).\n",
    "\n",
    "* The B- prefix before a tag indicates that the tag is the beginning of a chunk\n",
    "* An I- prefix before a tag indicates that the tag is inside a chunk. \n",
    "* An O tag indicates that a token belongs to no entity / chunk.\n",
    "\n",
    "The following figure shows how a BIO tagged sentence looks like:\n",
    "\n",
    "\n",
    "\n",
    "```\n",
    "    Wolff B-PER\n",
    "            , O\n",
    "    currently O\n",
    "            a O\n",
    "   journalist O\n",
    "           in O\n",
    "    Argentina B-LOC\n",
    "            , O\n",
    "       played O\n",
    "         with O\n",
    "          Del B-PER\n",
    "       Bosque I-PER\n",
    "           in O\n",
    "          the O\n",
    "        final O\n",
    "        years O\n",
    "           of O\n",
    "          the O\n",
    "    seventies O\n",
    "           in O\n",
    "         Real B-ORG\n",
    "       Madrid I-ORG\n",
    "            . O\n",
    "```"
   ]
  },
  {
   "cell_type": "markdown",
   "metadata": {
    "id": "A1lhQFrARron"
   },
   "source": [
    "### DataSet\n",
    "\n",
    "Let’s use CoNLL 2002 data to build a NER system\n",
    "\n",
    "CoNLL2002 corpus is available in NLTK. "
   ]
  },
  {
   "cell_type": "code",
   "execution_count": 1,
   "metadata": {
    "colab": {
     "base_uri": "https://localhost:8080/",
     "height": 52
    },
    "executionInfo": {
     "elapsed": 896,
     "status": "ok",
     "timestamp": 1594609251474,
     "user": {
      "displayName": "AI3 member",
      "photoUrl": "",
      "userId": "02800686538475887838"
     },
     "user_tz": -480
    },
    "id": "Omj1sv1rK1IG",
    "outputId": "35be439f-3ce9-49eb-e501-09c14c71eec1"
   },
   "outputs": [
    {
     "name": "stderr",
     "output_type": "stream",
     "text": [
      "[nltk_data] Error loading conll2002: <urlopen error [Errno 61]\n",
      "[nltk_data]     Connection refused>\n"
     ]
    }
   ],
   "source": [
    "# download corpus\n",
    "\n",
    "import nltk\n",
    "nltk.download('conll2002')\n",
    "\n",
    "# get training/testing datasets\n",
    "from nltk.corpus import conll2002"
   ]
  },
  {
   "cell_type": "code",
   "execution_count": 2,
   "metadata": {},
   "outputs": [
    {
     "data": {
      "text/plain": [
       "<ConllChunkCorpusReader in '/Users/Yam/nltk_data/corpora/conll2002'>"
      ]
     },
     "execution_count": 2,
     "metadata": {},
     "output_type": "execute_result"
    }
   ],
   "source": [
    "conll2002"
   ]
  },
  {
   "cell_type": "markdown",
   "metadata": {
    "id": "Qh6qToBNRro4"
   },
   "source": [
    "### Data Preparation"
   ]
  },
  {
   "cell_type": "code",
   "execution_count": 3,
   "metadata": {
    "colab": {
     "base_uri": "https://localhost:8080/",
     "height": 54
    },
    "executionInfo": {
     "elapsed": 2865,
     "status": "ok",
     "timestamp": 1594609255272,
     "user": {
      "displayName": "AI3 member",
      "photoUrl": "",
      "userId": "02800686538475887838"
     },
     "user_tz": -480
    },
    "id": "Gw331TN8SViw",
    "outputId": "3c7aad6b-1744-4997-851f-cb6c50353b89"
   },
   "outputs": [
    {
     "name": "stdout",
     "output_type": "stream",
     "text": [
      "[('Melbourne', 'NP', 'B-LOC'), ('(', 'Fpa', 'O'), ('Australia', 'NP', 'B-LOC'), (')', 'Fpt', 'O'), (',', 'Fc', 'O'), ('25', 'Z', 'O'), ('may', 'NC', 'O'), ('(', 'Fpa', 'O'), ('EFE', 'NC', 'B-ORG'), (')', 'Fpt', 'O'), ('.', 'Fp', 'O')]\n"
     ]
    }
   ],
   "source": [
    "## Training and testing\n",
    "\n",
    "train_sents = list(conll2002.iob_sents('esp.train')) ## spain\n",
    "test_sents = list(conll2002.iob_sents('esp.testb'))\n",
    "\n",
    "print(train_sents[0])\n",
    "#each tuple contains token, syntactic tag, ner label\n"
   ]
  },
  {
   "cell_type": "code",
   "execution_count": 24,
   "metadata": {},
   "outputs": [
    {
     "data": {
      "text/plain": [
       "(8323, 1517)"
      ]
     },
     "execution_count": 24,
     "metadata": {},
     "output_type": "execute_result"
    }
   ],
   "source": [
    "len(train_sents), len(test_sents)"
   ]
  },
  {
   "cell_type": "markdown",
   "metadata": {
    "id": "zzbq3CEMRrpC"
   },
   "source": [
    "### Features\n",
    "\n",
    "- word level features \n",
    "    - word shape\n",
    "    - word suffix \n",
    " \n",
    "- Current/previous word context \n",
    "    - some information from nearby words is used.\n",
    "    \n",
    "- word POS tag\n",
    "- label context \n",
    "\n",
    "This makes a simple baseline, but you certainly can add and remove some features to get (much?) better results - experiment with it.\n",
    "\n",
    "sklearn-crfsuite (and python-crfsuite) supports several feature formats; \n",
    "here we use feature dicts.\n"
   ]
  },
  {
   "cell_type": "code",
   "execution_count": 4,
   "metadata": {
    "id": "JWIshaAS1mTk"
   },
   "outputs": [],
   "source": [
    "# functions of sentence representations for sequence labelling\n",
    "def word2features(sent, i):\n",
    "    \n",
    "    word = sent[i][0]\n",
    "    postag = sent[i][1]\n",
    "\n",
    "\n",
    "    features = {\n",
    "        'bias': 1.0,\n",
    "        'word.lower()': word.lower(),\n",
    "        'word[-3:]': word[-3:],\n",
    "        'word[-2:]': word[-2:],\n",
    "        'word.isupper()': word.isupper(),\n",
    "        'word.istitle()': word.istitle(),\n",
    "        'word.isdigit()': word.isdigit(),\n",
    "        'postag': postag,\n",
    "        'postag[:2]': postag[:2],\n",
    "    }\n",
    "    \n",
    "    if i > 0:\n",
    "        word1 = sent[i-1][0]\n",
    "        postag1 = sent[i-1][1]\n",
    "        features.update({\n",
    "            '-1:word.lower()': word1.lower(),\n",
    "            '-1:word.istitle()': word1.istitle(),\n",
    "            '-1:word.isupper()': word1.isupper(),\n",
    "            '-1:postag': postag1,\n",
    "            '-1:postag[:2]': postag1[:2],\n",
    "        })\n",
    "    else:\n",
    "        # Indicate that it is the 'beginning of a document'\n",
    "        features['BOS'] = True\n",
    "        \n",
    "    \n",
    "    if i < len(sent)-1:\n",
    "        word1 = sent[i+1][0]\n",
    "        postag1 = sent[i+1][1]\n",
    "        features.update({\n",
    "            '+1:word.lower()': word1.lower(),\n",
    "            '+1:word.istitle()': word1.istitle(),\n",
    "            '+1:word.isupper()': word1.isupper(),\n",
    "            '+1:postag': postag1,\n",
    "            '+1:postag[:2]': postag1[:2],\n",
    "        })\n",
    "    else:\n",
    "        # Features for words that are not at the end of a document\n",
    "        features['EOS'] = True\n",
    "\n",
    "    return features\n",
    "\n",
    "\n",
    "def sent2features(sent):\n",
    "    return [word2features(sent, i) for i in range(len(sent))]\n",
    "\n",
    "def sent2labels(sent):\n",
    "    return [label for token, postag, label in sent]\n",
    "\n",
    "def sent2tokens(sent):\n",
    "    return [token for token, postag, label in sent]"
   ]
  },
  {
   "cell_type": "markdown",
   "metadata": {
    "id": "Ev-yk6vgRrpM"
   },
   "source": [
    "This is what word2features extracts:"
   ]
  },
  {
   "cell_type": "code",
   "execution_count": 5,
   "metadata": {
    "colab": {
     "base_uri": "https://localhost:8080/",
     "height": 52
    },
    "executionInfo": {
     "elapsed": 816,
     "status": "ok",
     "timestamp": 1594609258949,
     "user": {
      "displayName": "AI3 member",
      "photoUrl": "",
      "userId": "02800686538475887838"
     },
     "user_tz": -480
    },
    "id": "RcZT2QTERrpO",
    "outputId": "470b5e4e-758c-4334-ff1f-be0c8e955460",
    "scrolled": true
   },
   "outputs": [
    {
     "data": {
      "text/plain": [
       "'El Abogado General del Estado , Daryl Williams , subrayó hoy la necesidad de tomar medidas para proteger al sistema judicial australiano frente a una página de internet que imposibilita el cumplimiento de los principios básicos de la Ley .'"
      ]
     },
     "execution_count": 5,
     "metadata": {},
     "output_type": "execute_result"
    }
   ],
   "source": [
    "sample_sentence = \" \".join([s for s,c,d in train_sents[2]])\n",
    "sample_sentence"
   ]
  },
  {
   "cell_type": "code",
   "execution_count": 6,
   "metadata": {
    "colab": {
     "base_uri": "https://localhost:8080/",
     "height": 191
    },
    "executionInfo": {
     "elapsed": 829,
     "status": "ok",
     "timestamp": 1594609260609,
     "user": {
      "displayName": "AI3 member",
      "photoUrl": "",
      "userId": "02800686538475887838"
     },
     "user_tz": -480
    },
    "id": "Jy5DPINvRrpS",
    "outputId": "b2276a24-effa-4943-9f23-8c1e26bd7e6f"
   },
   "outputs": [
    {
     "data": {
      "text/plain": [
       "[('El', 'DA', 'O'),\n",
       " ('Abogado', 'NC', 'B-PER'),\n",
       " ('General', 'AQ', 'I-PER'),\n",
       " ('del', 'SP', 'I-PER'),\n",
       " ('Estado', 'NC', 'I-PER'),\n",
       " (',', 'Fc', 'O'),\n",
       " ('Daryl', 'VMI', 'B-PER'),\n",
       " ('Williams', 'NC', 'I-PER'),\n",
       " (',', 'Fc', 'O'),\n",
       " ('subrayó', 'VMI', 'O')]"
      ]
     },
     "execution_count": 6,
     "metadata": {},
     "output_type": "execute_result"
    }
   ],
   "source": [
    "train_sents[2][:10]"
   ]
  },
  {
   "cell_type": "code",
   "execution_count": 9,
   "metadata": {
    "colab": {
     "base_uri": "https://localhost:8080/",
     "height": 347
    },
    "executionInfo": {
     "elapsed": 808,
     "status": "ok",
     "timestamp": 1594611207169,
     "user": {
      "displayName": "AI3 member",
      "photoUrl": "",
      "userId": "02800686538475887838"
     },
     "user_tz": -480
    },
    "id": "Gyi-ORWhRrpW",
    "outputId": "d1954e2a-92b1-4a82-e24a-5fa790de72ff"
   },
   "outputs": [
    {
     "data": {
      "text/plain": [
       "{'bias': 1.0,\n",
       " 'word.lower()': 'abogado',\n",
       " 'word[-3:]': 'ado',\n",
       " 'word[-2:]': 'do',\n",
       " 'word.isupper()': False,\n",
       " 'word.istitle()': True,\n",
       " 'word.isdigit()': False,\n",
       " 'postag': 'NC',\n",
       " 'postag[:2]': 'NC',\n",
       " '-1:word.lower()': 'el',\n",
       " '-1:word.istitle()': True,\n",
       " '-1:word.isupper()': False,\n",
       " '-1:postag': 'DA',\n",
       " '-1:postag[:2]': 'DA',\n",
       " '+1:word.lower()': 'general',\n",
       " '+1:word.istitle()': True,\n",
       " '+1:word.isupper()': False,\n",
       " '+1:postag': 'AQ',\n",
       " '+1:postag[:2]': 'AQ'}"
      ]
     },
     "execution_count": 9,
     "metadata": {},
     "output_type": "execute_result"
    }
   ],
   "source": [
    "word2features(train_sents[2], 1)"
   ]
  },
  {
   "cell_type": "code",
   "execution_count": 10,
   "metadata": {
    "colab": {
     "base_uri": "https://localhost:8080/",
     "height": 1000
    },
    "executionInfo": {
     "elapsed": 996,
     "status": "ok",
     "timestamp": 1594611263690,
     "user": {
      "displayName": "AI3 member",
      "photoUrl": "",
      "userId": "02800686538475887838"
     },
     "user_tz": -480
    },
    "id": "SngkH8_r1pK5",
    "outputId": "7ab59d7d-d794-49b7-9fb5-b46f9a96507e",
    "scrolled": true
   },
   "outputs": [
    {
     "data": {
      "text/plain": [
       "[{'bias': 1.0,\n",
       "  'word.lower()': 'el',\n",
       "  'word[-3:]': 'El',\n",
       "  'word[-2:]': 'El',\n",
       "  'word.isupper()': False,\n",
       "  'word.istitle()': True,\n",
       "  'word.isdigit()': False,\n",
       "  'postag': 'DA',\n",
       "  'postag[:2]': 'DA',\n",
       "  'BOS': True,\n",
       "  '+1:word.lower()': 'abogado',\n",
       "  '+1:word.istitle()': True,\n",
       "  '+1:word.isupper()': False,\n",
       "  '+1:postag': 'NC',\n",
       "  '+1:postag[:2]': 'NC'},\n",
       " {'bias': 1.0,\n",
       "  'word.lower()': 'abogado',\n",
       "  'word[-3:]': 'ado',\n",
       "  'word[-2:]': 'do',\n",
       "  'word.isupper()': False,\n",
       "  'word.istitle()': True,\n",
       "  'word.isdigit()': False,\n",
       "  'postag': 'NC',\n",
       "  'postag[:2]': 'NC',\n",
       "  '-1:word.lower()': 'el',\n",
       "  '-1:word.istitle()': True,\n",
       "  '-1:word.isupper()': False,\n",
       "  '-1:postag': 'DA',\n",
       "  '-1:postag[:2]': 'DA',\n",
       "  '+1:word.lower()': 'general',\n",
       "  '+1:word.istitle()': True,\n",
       "  '+1:word.isupper()': False,\n",
       "  '+1:postag': 'AQ',\n",
       "  '+1:postag[:2]': 'AQ'},\n",
       " {'bias': 1.0,\n",
       "  'word.lower()': 'general',\n",
       "  'word[-3:]': 'ral',\n",
       "  'word[-2:]': 'al',\n",
       "  'word.isupper()': False,\n",
       "  'word.istitle()': True,\n",
       "  'word.isdigit()': False,\n",
       "  'postag': 'AQ',\n",
       "  'postag[:2]': 'AQ',\n",
       "  '-1:word.lower()': 'abogado',\n",
       "  '-1:word.istitle()': True,\n",
       "  '-1:word.isupper()': False,\n",
       "  '-1:postag': 'NC',\n",
       "  '-1:postag[:2]': 'NC',\n",
       "  '+1:word.lower()': 'del',\n",
       "  '+1:word.istitle()': False,\n",
       "  '+1:word.isupper()': False,\n",
       "  '+1:postag': 'SP',\n",
       "  '+1:postag[:2]': 'SP'},\n",
       " {'bias': 1.0,\n",
       "  'word.lower()': 'del',\n",
       "  'word[-3:]': 'del',\n",
       "  'word[-2:]': 'el',\n",
       "  'word.isupper()': False,\n",
       "  'word.istitle()': False,\n",
       "  'word.isdigit()': False,\n",
       "  'postag': 'SP',\n",
       "  'postag[:2]': 'SP',\n",
       "  '-1:word.lower()': 'general',\n",
       "  '-1:word.istitle()': True,\n",
       "  '-1:word.isupper()': False,\n",
       "  '-1:postag': 'AQ',\n",
       "  '-1:postag[:2]': 'AQ',\n",
       "  '+1:word.lower()': 'estado',\n",
       "  '+1:word.istitle()': True,\n",
       "  '+1:word.isupper()': False,\n",
       "  '+1:postag': 'NC',\n",
       "  '+1:postag[:2]': 'NC'},\n",
       " {'bias': 1.0,\n",
       "  'word.lower()': 'estado',\n",
       "  'word[-3:]': 'ado',\n",
       "  'word[-2:]': 'do',\n",
       "  'word.isupper()': False,\n",
       "  'word.istitle()': True,\n",
       "  'word.isdigit()': False,\n",
       "  'postag': 'NC',\n",
       "  'postag[:2]': 'NC',\n",
       "  '-1:word.lower()': 'del',\n",
       "  '-1:word.istitle()': False,\n",
       "  '-1:word.isupper()': False,\n",
       "  '-1:postag': 'SP',\n",
       "  '-1:postag[:2]': 'SP',\n",
       "  '+1:word.lower()': ',',\n",
       "  '+1:word.istitle()': False,\n",
       "  '+1:word.isupper()': False,\n",
       "  '+1:postag': 'Fc',\n",
       "  '+1:postag[:2]': 'Fc'},\n",
       " {'bias': 1.0,\n",
       "  'word.lower()': ',',\n",
       "  'word[-3:]': ',',\n",
       "  'word[-2:]': ',',\n",
       "  'word.isupper()': False,\n",
       "  'word.istitle()': False,\n",
       "  'word.isdigit()': False,\n",
       "  'postag': 'Fc',\n",
       "  'postag[:2]': 'Fc',\n",
       "  '-1:word.lower()': 'estado',\n",
       "  '-1:word.istitle()': True,\n",
       "  '-1:word.isupper()': False,\n",
       "  '-1:postag': 'NC',\n",
       "  '-1:postag[:2]': 'NC',\n",
       "  '+1:word.lower()': 'daryl',\n",
       "  '+1:word.istitle()': True,\n",
       "  '+1:word.isupper()': False,\n",
       "  '+1:postag': 'VMI',\n",
       "  '+1:postag[:2]': 'VM'},\n",
       " {'bias': 1.0,\n",
       "  'word.lower()': 'daryl',\n",
       "  'word[-3:]': 'ryl',\n",
       "  'word[-2:]': 'yl',\n",
       "  'word.isupper()': False,\n",
       "  'word.istitle()': True,\n",
       "  'word.isdigit()': False,\n",
       "  'postag': 'VMI',\n",
       "  'postag[:2]': 'VM',\n",
       "  '-1:word.lower()': ',',\n",
       "  '-1:word.istitle()': False,\n",
       "  '-1:word.isupper()': False,\n",
       "  '-1:postag': 'Fc',\n",
       "  '-1:postag[:2]': 'Fc',\n",
       "  '+1:word.lower()': 'williams',\n",
       "  '+1:word.istitle()': True,\n",
       "  '+1:word.isupper()': False,\n",
       "  '+1:postag': 'NC',\n",
       "  '+1:postag[:2]': 'NC'},\n",
       " {'bias': 1.0,\n",
       "  'word.lower()': 'williams',\n",
       "  'word[-3:]': 'ams',\n",
       "  'word[-2:]': 'ms',\n",
       "  'word.isupper()': False,\n",
       "  'word.istitle()': True,\n",
       "  'word.isdigit()': False,\n",
       "  'postag': 'NC',\n",
       "  'postag[:2]': 'NC',\n",
       "  '-1:word.lower()': 'daryl',\n",
       "  '-1:word.istitle()': True,\n",
       "  '-1:word.isupper()': False,\n",
       "  '-1:postag': 'VMI',\n",
       "  '-1:postag[:2]': 'VM',\n",
       "  '+1:word.lower()': ',',\n",
       "  '+1:word.istitle()': False,\n",
       "  '+1:word.isupper()': False,\n",
       "  '+1:postag': 'Fc',\n",
       "  '+1:postag[:2]': 'Fc'},\n",
       " {'bias': 1.0,\n",
       "  'word.lower()': ',',\n",
       "  'word[-3:]': ',',\n",
       "  'word[-2:]': ',',\n",
       "  'word.isupper()': False,\n",
       "  'word.istitle()': False,\n",
       "  'word.isdigit()': False,\n",
       "  'postag': 'Fc',\n",
       "  'postag[:2]': 'Fc',\n",
       "  '-1:word.lower()': 'williams',\n",
       "  '-1:word.istitle()': True,\n",
       "  '-1:word.isupper()': False,\n",
       "  '-1:postag': 'NC',\n",
       "  '-1:postag[:2]': 'NC',\n",
       "  '+1:word.lower()': 'subrayó',\n",
       "  '+1:word.istitle()': False,\n",
       "  '+1:word.isupper()': False,\n",
       "  '+1:postag': 'VMI',\n",
       "  '+1:postag[:2]': 'VM'},\n",
       " {'bias': 1.0,\n",
       "  'word.lower()': 'subrayó',\n",
       "  'word[-3:]': 'ayó',\n",
       "  'word[-2:]': 'yó',\n",
       "  'word.isupper()': False,\n",
       "  'word.istitle()': False,\n",
       "  'word.isdigit()': False,\n",
       "  'postag': 'VMI',\n",
       "  'postag[:2]': 'VM',\n",
       "  '-1:word.lower()': ',',\n",
       "  '-1:word.istitle()': False,\n",
       "  '-1:word.isupper()': False,\n",
       "  '-1:postag': 'Fc',\n",
       "  '-1:postag[:2]': 'Fc',\n",
       "  '+1:word.lower()': 'hoy',\n",
       "  '+1:word.istitle()': False,\n",
       "  '+1:word.isupper()': False,\n",
       "  '+1:postag': 'RG',\n",
       "  '+1:postag[:2]': 'RG'},\n",
       " {'bias': 1.0,\n",
       "  'word.lower()': 'hoy',\n",
       "  'word[-3:]': 'hoy',\n",
       "  'word[-2:]': 'oy',\n",
       "  'word.isupper()': False,\n",
       "  'word.istitle()': False,\n",
       "  'word.isdigit()': False,\n",
       "  'postag': 'RG',\n",
       "  'postag[:2]': 'RG',\n",
       "  '-1:word.lower()': 'subrayó',\n",
       "  '-1:word.istitle()': False,\n",
       "  '-1:word.isupper()': False,\n",
       "  '-1:postag': 'VMI',\n",
       "  '-1:postag[:2]': 'VM',\n",
       "  '+1:word.lower()': 'la',\n",
       "  '+1:word.istitle()': False,\n",
       "  '+1:word.isupper()': False,\n",
       "  '+1:postag': 'DA',\n",
       "  '+1:postag[:2]': 'DA'},\n",
       " {'bias': 1.0,\n",
       "  'word.lower()': 'la',\n",
       "  'word[-3:]': 'la',\n",
       "  'word[-2:]': 'la',\n",
       "  'word.isupper()': False,\n",
       "  'word.istitle()': False,\n",
       "  'word.isdigit()': False,\n",
       "  'postag': 'DA',\n",
       "  'postag[:2]': 'DA',\n",
       "  '-1:word.lower()': 'hoy',\n",
       "  '-1:word.istitle()': False,\n",
       "  '-1:word.isupper()': False,\n",
       "  '-1:postag': 'RG',\n",
       "  '-1:postag[:2]': 'RG',\n",
       "  '+1:word.lower()': 'necesidad',\n",
       "  '+1:word.istitle()': False,\n",
       "  '+1:word.isupper()': False,\n",
       "  '+1:postag': 'NC',\n",
       "  '+1:postag[:2]': 'NC'},\n",
       " {'bias': 1.0,\n",
       "  'word.lower()': 'necesidad',\n",
       "  'word[-3:]': 'dad',\n",
       "  'word[-2:]': 'ad',\n",
       "  'word.isupper()': False,\n",
       "  'word.istitle()': False,\n",
       "  'word.isdigit()': False,\n",
       "  'postag': 'NC',\n",
       "  'postag[:2]': 'NC',\n",
       "  '-1:word.lower()': 'la',\n",
       "  '-1:word.istitle()': False,\n",
       "  '-1:word.isupper()': False,\n",
       "  '-1:postag': 'DA',\n",
       "  '-1:postag[:2]': 'DA',\n",
       "  '+1:word.lower()': 'de',\n",
       "  '+1:word.istitle()': False,\n",
       "  '+1:word.isupper()': False,\n",
       "  '+1:postag': 'SP',\n",
       "  '+1:postag[:2]': 'SP'},\n",
       " {'bias': 1.0,\n",
       "  'word.lower()': 'de',\n",
       "  'word[-3:]': 'de',\n",
       "  'word[-2:]': 'de',\n",
       "  'word.isupper()': False,\n",
       "  'word.istitle()': False,\n",
       "  'word.isdigit()': False,\n",
       "  'postag': 'SP',\n",
       "  'postag[:2]': 'SP',\n",
       "  '-1:word.lower()': 'necesidad',\n",
       "  '-1:word.istitle()': False,\n",
       "  '-1:word.isupper()': False,\n",
       "  '-1:postag': 'NC',\n",
       "  '-1:postag[:2]': 'NC',\n",
       "  '+1:word.lower()': 'tomar',\n",
       "  '+1:word.istitle()': False,\n",
       "  '+1:word.isupper()': False,\n",
       "  '+1:postag': 'VMN',\n",
       "  '+1:postag[:2]': 'VM'},\n",
       " {'bias': 1.0,\n",
       "  'word.lower()': 'tomar',\n",
       "  'word[-3:]': 'mar',\n",
       "  'word[-2:]': 'ar',\n",
       "  'word.isupper()': False,\n",
       "  'word.istitle()': False,\n",
       "  'word.isdigit()': False,\n",
       "  'postag': 'VMN',\n",
       "  'postag[:2]': 'VM',\n",
       "  '-1:word.lower()': 'de',\n",
       "  '-1:word.istitle()': False,\n",
       "  '-1:word.isupper()': False,\n",
       "  '-1:postag': 'SP',\n",
       "  '-1:postag[:2]': 'SP',\n",
       "  '+1:word.lower()': 'medidas',\n",
       "  '+1:word.istitle()': False,\n",
       "  '+1:word.isupper()': False,\n",
       "  '+1:postag': 'NC',\n",
       "  '+1:postag[:2]': 'NC'},\n",
       " {'bias': 1.0,\n",
       "  'word.lower()': 'medidas',\n",
       "  'word[-3:]': 'das',\n",
       "  'word[-2:]': 'as',\n",
       "  'word.isupper()': False,\n",
       "  'word.istitle()': False,\n",
       "  'word.isdigit()': False,\n",
       "  'postag': 'NC',\n",
       "  'postag[:2]': 'NC',\n",
       "  '-1:word.lower()': 'tomar',\n",
       "  '-1:word.istitle()': False,\n",
       "  '-1:word.isupper()': False,\n",
       "  '-1:postag': 'VMN',\n",
       "  '-1:postag[:2]': 'VM',\n",
       "  '+1:word.lower()': 'para',\n",
       "  '+1:word.istitle()': False,\n",
       "  '+1:word.isupper()': False,\n",
       "  '+1:postag': 'SP',\n",
       "  '+1:postag[:2]': 'SP'},\n",
       " {'bias': 1.0,\n",
       "  'word.lower()': 'para',\n",
       "  'word[-3:]': 'ara',\n",
       "  'word[-2:]': 'ra',\n",
       "  'word.isupper()': False,\n",
       "  'word.istitle()': False,\n",
       "  'word.isdigit()': False,\n",
       "  'postag': 'SP',\n",
       "  'postag[:2]': 'SP',\n",
       "  '-1:word.lower()': 'medidas',\n",
       "  '-1:word.istitle()': False,\n",
       "  '-1:word.isupper()': False,\n",
       "  '-1:postag': 'NC',\n",
       "  '-1:postag[:2]': 'NC',\n",
       "  '+1:word.lower()': 'proteger',\n",
       "  '+1:word.istitle()': False,\n",
       "  '+1:word.isupper()': False,\n",
       "  '+1:postag': 'VMN',\n",
       "  '+1:postag[:2]': 'VM'},\n",
       " {'bias': 1.0,\n",
       "  'word.lower()': 'proteger',\n",
       "  'word[-3:]': 'ger',\n",
       "  'word[-2:]': 'er',\n",
       "  'word.isupper()': False,\n",
       "  'word.istitle()': False,\n",
       "  'word.isdigit()': False,\n",
       "  'postag': 'VMN',\n",
       "  'postag[:2]': 'VM',\n",
       "  '-1:word.lower()': 'para',\n",
       "  '-1:word.istitle()': False,\n",
       "  '-1:word.isupper()': False,\n",
       "  '-1:postag': 'SP',\n",
       "  '-1:postag[:2]': 'SP',\n",
       "  '+1:word.lower()': 'al',\n",
       "  '+1:word.istitle()': False,\n",
       "  '+1:word.isupper()': False,\n",
       "  '+1:postag': 'SP',\n",
       "  '+1:postag[:2]': 'SP'},\n",
       " {'bias': 1.0,\n",
       "  'word.lower()': 'al',\n",
       "  'word[-3:]': 'al',\n",
       "  'word[-2:]': 'al',\n",
       "  'word.isupper()': False,\n",
       "  'word.istitle()': False,\n",
       "  'word.isdigit()': False,\n",
       "  'postag': 'SP',\n",
       "  'postag[:2]': 'SP',\n",
       "  '-1:word.lower()': 'proteger',\n",
       "  '-1:word.istitle()': False,\n",
       "  '-1:word.isupper()': False,\n",
       "  '-1:postag': 'VMN',\n",
       "  '-1:postag[:2]': 'VM',\n",
       "  '+1:word.lower()': 'sistema',\n",
       "  '+1:word.istitle()': False,\n",
       "  '+1:word.isupper()': False,\n",
       "  '+1:postag': 'NC',\n",
       "  '+1:postag[:2]': 'NC'},\n",
       " {'bias': 1.0,\n",
       "  'word.lower()': 'sistema',\n",
       "  'word[-3:]': 'ema',\n",
       "  'word[-2:]': 'ma',\n",
       "  'word.isupper()': False,\n",
       "  'word.istitle()': False,\n",
       "  'word.isdigit()': False,\n",
       "  'postag': 'NC',\n",
       "  'postag[:2]': 'NC',\n",
       "  '-1:word.lower()': 'al',\n",
       "  '-1:word.istitle()': False,\n",
       "  '-1:word.isupper()': False,\n",
       "  '-1:postag': 'SP',\n",
       "  '-1:postag[:2]': 'SP',\n",
       "  '+1:word.lower()': 'judicial',\n",
       "  '+1:word.istitle()': False,\n",
       "  '+1:word.isupper()': False,\n",
       "  '+1:postag': 'AQ',\n",
       "  '+1:postag[:2]': 'AQ'},\n",
       " {'bias': 1.0,\n",
       "  'word.lower()': 'judicial',\n",
       "  'word[-3:]': 'ial',\n",
       "  'word[-2:]': 'al',\n",
       "  'word.isupper()': False,\n",
       "  'word.istitle()': False,\n",
       "  'word.isdigit()': False,\n",
       "  'postag': 'AQ',\n",
       "  'postag[:2]': 'AQ',\n",
       "  '-1:word.lower()': 'sistema',\n",
       "  '-1:word.istitle()': False,\n",
       "  '-1:word.isupper()': False,\n",
       "  '-1:postag': 'NC',\n",
       "  '-1:postag[:2]': 'NC',\n",
       "  '+1:word.lower()': 'australiano',\n",
       "  '+1:word.istitle()': False,\n",
       "  '+1:word.isupper()': False,\n",
       "  '+1:postag': 'AQ',\n",
       "  '+1:postag[:2]': 'AQ'},\n",
       " {'bias': 1.0,\n",
       "  'word.lower()': 'australiano',\n",
       "  'word[-3:]': 'ano',\n",
       "  'word[-2:]': 'no',\n",
       "  'word.isupper()': False,\n",
       "  'word.istitle()': False,\n",
       "  'word.isdigit()': False,\n",
       "  'postag': 'AQ',\n",
       "  'postag[:2]': 'AQ',\n",
       "  '-1:word.lower()': 'judicial',\n",
       "  '-1:word.istitle()': False,\n",
       "  '-1:word.isupper()': False,\n",
       "  '-1:postag': 'AQ',\n",
       "  '-1:postag[:2]': 'AQ',\n",
       "  '+1:word.lower()': 'frente',\n",
       "  '+1:word.istitle()': False,\n",
       "  '+1:word.isupper()': False,\n",
       "  '+1:postag': 'RG',\n",
       "  '+1:postag[:2]': 'RG'},\n",
       " {'bias': 1.0,\n",
       "  'word.lower()': 'frente',\n",
       "  'word[-3:]': 'nte',\n",
       "  'word[-2:]': 'te',\n",
       "  'word.isupper()': False,\n",
       "  'word.istitle()': False,\n",
       "  'word.isdigit()': False,\n",
       "  'postag': 'RG',\n",
       "  'postag[:2]': 'RG',\n",
       "  '-1:word.lower()': 'australiano',\n",
       "  '-1:word.istitle()': False,\n",
       "  '-1:word.isupper()': False,\n",
       "  '-1:postag': 'AQ',\n",
       "  '-1:postag[:2]': 'AQ',\n",
       "  '+1:word.lower()': 'a',\n",
       "  '+1:word.istitle()': False,\n",
       "  '+1:word.isupper()': False,\n",
       "  '+1:postag': 'SP',\n",
       "  '+1:postag[:2]': 'SP'},\n",
       " {'bias': 1.0,\n",
       "  'word.lower()': 'a',\n",
       "  'word[-3:]': 'a',\n",
       "  'word[-2:]': 'a',\n",
       "  'word.isupper()': False,\n",
       "  'word.istitle()': False,\n",
       "  'word.isdigit()': False,\n",
       "  'postag': 'SP',\n",
       "  'postag[:2]': 'SP',\n",
       "  '-1:word.lower()': 'frente',\n",
       "  '-1:word.istitle()': False,\n",
       "  '-1:word.isupper()': False,\n",
       "  '-1:postag': 'RG',\n",
       "  '-1:postag[:2]': 'RG',\n",
       "  '+1:word.lower()': 'una',\n",
       "  '+1:word.istitle()': False,\n",
       "  '+1:word.isupper()': False,\n",
       "  '+1:postag': 'DI',\n",
       "  '+1:postag[:2]': 'DI'},\n",
       " {'bias': 1.0,\n",
       "  'word.lower()': 'una',\n",
       "  'word[-3:]': 'una',\n",
       "  'word[-2:]': 'na',\n",
       "  'word.isupper()': False,\n",
       "  'word.istitle()': False,\n",
       "  'word.isdigit()': False,\n",
       "  'postag': 'DI',\n",
       "  'postag[:2]': 'DI',\n",
       "  '-1:word.lower()': 'a',\n",
       "  '-1:word.istitle()': False,\n",
       "  '-1:word.isupper()': False,\n",
       "  '-1:postag': 'SP',\n",
       "  '-1:postag[:2]': 'SP',\n",
       "  '+1:word.lower()': 'página',\n",
       "  '+1:word.istitle()': False,\n",
       "  '+1:word.isupper()': False,\n",
       "  '+1:postag': 'NC',\n",
       "  '+1:postag[:2]': 'NC'},\n",
       " {'bias': 1.0,\n",
       "  'word.lower()': 'página',\n",
       "  'word[-3:]': 'ina',\n",
       "  'word[-2:]': 'na',\n",
       "  'word.isupper()': False,\n",
       "  'word.istitle()': False,\n",
       "  'word.isdigit()': False,\n",
       "  'postag': 'NC',\n",
       "  'postag[:2]': 'NC',\n",
       "  '-1:word.lower()': 'una',\n",
       "  '-1:word.istitle()': False,\n",
       "  '-1:word.isupper()': False,\n",
       "  '-1:postag': 'DI',\n",
       "  '-1:postag[:2]': 'DI',\n",
       "  '+1:word.lower()': 'de',\n",
       "  '+1:word.istitle()': False,\n",
       "  '+1:word.isupper()': False,\n",
       "  '+1:postag': 'SP',\n",
       "  '+1:postag[:2]': 'SP'},\n",
       " {'bias': 1.0,\n",
       "  'word.lower()': 'de',\n",
       "  'word[-3:]': 'de',\n",
       "  'word[-2:]': 'de',\n",
       "  'word.isupper()': False,\n",
       "  'word.istitle()': False,\n",
       "  'word.isdigit()': False,\n",
       "  'postag': 'SP',\n",
       "  'postag[:2]': 'SP',\n",
       "  '-1:word.lower()': 'página',\n",
       "  '-1:word.istitle()': False,\n",
       "  '-1:word.isupper()': False,\n",
       "  '-1:postag': 'NC',\n",
       "  '-1:postag[:2]': 'NC',\n",
       "  '+1:word.lower()': 'internet',\n",
       "  '+1:word.istitle()': False,\n",
       "  '+1:word.isupper()': False,\n",
       "  '+1:postag': 'NC',\n",
       "  '+1:postag[:2]': 'NC'},\n",
       " {'bias': 1.0,\n",
       "  'word.lower()': 'internet',\n",
       "  'word[-3:]': 'net',\n",
       "  'word[-2:]': 'et',\n",
       "  'word.isupper()': False,\n",
       "  'word.istitle()': False,\n",
       "  'word.isdigit()': False,\n",
       "  'postag': 'NC',\n",
       "  'postag[:2]': 'NC',\n",
       "  '-1:word.lower()': 'de',\n",
       "  '-1:word.istitle()': False,\n",
       "  '-1:word.isupper()': False,\n",
       "  '-1:postag': 'SP',\n",
       "  '-1:postag[:2]': 'SP',\n",
       "  '+1:word.lower()': 'que',\n",
       "  '+1:word.istitle()': False,\n",
       "  '+1:word.isupper()': False,\n",
       "  '+1:postag': 'PR',\n",
       "  '+1:postag[:2]': 'PR'},\n",
       " {'bias': 1.0,\n",
       "  'word.lower()': 'que',\n",
       "  'word[-3:]': 'que',\n",
       "  'word[-2:]': 'ue',\n",
       "  'word.isupper()': False,\n",
       "  'word.istitle()': False,\n",
       "  'word.isdigit()': False,\n",
       "  'postag': 'PR',\n",
       "  'postag[:2]': 'PR',\n",
       "  '-1:word.lower()': 'internet',\n",
       "  '-1:word.istitle()': False,\n",
       "  '-1:word.isupper()': False,\n",
       "  '-1:postag': 'NC',\n",
       "  '-1:postag[:2]': 'NC',\n",
       "  '+1:word.lower()': 'imposibilita',\n",
       "  '+1:word.istitle()': False,\n",
       "  '+1:word.isupper()': False,\n",
       "  '+1:postag': 'VMI',\n",
       "  '+1:postag[:2]': 'VM'},\n",
       " {'bias': 1.0,\n",
       "  'word.lower()': 'imposibilita',\n",
       "  'word[-3:]': 'ita',\n",
       "  'word[-2:]': 'ta',\n",
       "  'word.isupper()': False,\n",
       "  'word.istitle()': False,\n",
       "  'word.isdigit()': False,\n",
       "  'postag': 'VMI',\n",
       "  'postag[:2]': 'VM',\n",
       "  '-1:word.lower()': 'que',\n",
       "  '-1:word.istitle()': False,\n",
       "  '-1:word.isupper()': False,\n",
       "  '-1:postag': 'PR',\n",
       "  '-1:postag[:2]': 'PR',\n",
       "  '+1:word.lower()': 'el',\n",
       "  '+1:word.istitle()': False,\n",
       "  '+1:word.isupper()': False,\n",
       "  '+1:postag': 'DA',\n",
       "  '+1:postag[:2]': 'DA'},\n",
       " {'bias': 1.0,\n",
       "  'word.lower()': 'el',\n",
       "  'word[-3:]': 'el',\n",
       "  'word[-2:]': 'el',\n",
       "  'word.isupper()': False,\n",
       "  'word.istitle()': False,\n",
       "  'word.isdigit()': False,\n",
       "  'postag': 'DA',\n",
       "  'postag[:2]': 'DA',\n",
       "  '-1:word.lower()': 'imposibilita',\n",
       "  '-1:word.istitle()': False,\n",
       "  '-1:word.isupper()': False,\n",
       "  '-1:postag': 'VMI',\n",
       "  '-1:postag[:2]': 'VM',\n",
       "  '+1:word.lower()': 'cumplimiento',\n",
       "  '+1:word.istitle()': False,\n",
       "  '+1:word.isupper()': False,\n",
       "  '+1:postag': 'NC',\n",
       "  '+1:postag[:2]': 'NC'},\n",
       " {'bias': 1.0,\n",
       "  'word.lower()': 'cumplimiento',\n",
       "  'word[-3:]': 'nto',\n",
       "  'word[-2:]': 'to',\n",
       "  'word.isupper()': False,\n",
       "  'word.istitle()': False,\n",
       "  'word.isdigit()': False,\n",
       "  'postag': 'NC',\n",
       "  'postag[:2]': 'NC',\n",
       "  '-1:word.lower()': 'el',\n",
       "  '-1:word.istitle()': False,\n",
       "  '-1:word.isupper()': False,\n",
       "  '-1:postag': 'DA',\n",
       "  '-1:postag[:2]': 'DA',\n",
       "  '+1:word.lower()': 'de',\n",
       "  '+1:word.istitle()': False,\n",
       "  '+1:word.isupper()': False,\n",
       "  '+1:postag': 'SP',\n",
       "  '+1:postag[:2]': 'SP'},\n",
       " {'bias': 1.0,\n",
       "  'word.lower()': 'de',\n",
       "  'word[-3:]': 'de',\n",
       "  'word[-2:]': 'de',\n",
       "  'word.isupper()': False,\n",
       "  'word.istitle()': False,\n",
       "  'word.isdigit()': False,\n",
       "  'postag': 'SP',\n",
       "  'postag[:2]': 'SP',\n",
       "  '-1:word.lower()': 'cumplimiento',\n",
       "  '-1:word.istitle()': False,\n",
       "  '-1:word.isupper()': False,\n",
       "  '-1:postag': 'NC',\n",
       "  '-1:postag[:2]': 'NC',\n",
       "  '+1:word.lower()': 'los',\n",
       "  '+1:word.istitle()': False,\n",
       "  '+1:word.isupper()': False,\n",
       "  '+1:postag': 'DA',\n",
       "  '+1:postag[:2]': 'DA'},\n",
       " {'bias': 1.0,\n",
       "  'word.lower()': 'los',\n",
       "  'word[-3:]': 'los',\n",
       "  'word[-2:]': 'os',\n",
       "  'word.isupper()': False,\n",
       "  'word.istitle()': False,\n",
       "  'word.isdigit()': False,\n",
       "  'postag': 'DA',\n",
       "  'postag[:2]': 'DA',\n",
       "  '-1:word.lower()': 'de',\n",
       "  '-1:word.istitle()': False,\n",
       "  '-1:word.isupper()': False,\n",
       "  '-1:postag': 'SP',\n",
       "  '-1:postag[:2]': 'SP',\n",
       "  '+1:word.lower()': 'principios',\n",
       "  '+1:word.istitle()': False,\n",
       "  '+1:word.isupper()': False,\n",
       "  '+1:postag': 'NC',\n",
       "  '+1:postag[:2]': 'NC'},\n",
       " {'bias': 1.0,\n",
       "  'word.lower()': 'principios',\n",
       "  'word[-3:]': 'ios',\n",
       "  'word[-2:]': 'os',\n",
       "  'word.isupper()': False,\n",
       "  'word.istitle()': False,\n",
       "  'word.isdigit()': False,\n",
       "  'postag': 'NC',\n",
       "  'postag[:2]': 'NC',\n",
       "  '-1:word.lower()': 'los',\n",
       "  '-1:word.istitle()': False,\n",
       "  '-1:word.isupper()': False,\n",
       "  '-1:postag': 'DA',\n",
       "  '-1:postag[:2]': 'DA',\n",
       "  '+1:word.lower()': 'básicos',\n",
       "  '+1:word.istitle()': False,\n",
       "  '+1:word.isupper()': False,\n",
       "  '+1:postag': 'AQ',\n",
       "  '+1:postag[:2]': 'AQ'},\n",
       " {'bias': 1.0,\n",
       "  'word.lower()': 'básicos',\n",
       "  'word[-3:]': 'cos',\n",
       "  'word[-2:]': 'os',\n",
       "  'word.isupper()': False,\n",
       "  'word.istitle()': False,\n",
       "  'word.isdigit()': False,\n",
       "  'postag': 'AQ',\n",
       "  'postag[:2]': 'AQ',\n",
       "  '-1:word.lower()': 'principios',\n",
       "  '-1:word.istitle()': False,\n",
       "  '-1:word.isupper()': False,\n",
       "  '-1:postag': 'NC',\n",
       "  '-1:postag[:2]': 'NC',\n",
       "  '+1:word.lower()': 'de',\n",
       "  '+1:word.istitle()': False,\n",
       "  '+1:word.isupper()': False,\n",
       "  '+1:postag': 'SP',\n",
       "  '+1:postag[:2]': 'SP'},\n",
       " {'bias': 1.0,\n",
       "  'word.lower()': 'de',\n",
       "  'word[-3:]': 'de',\n",
       "  'word[-2:]': 'de',\n",
       "  'word.isupper()': False,\n",
       "  'word.istitle()': False,\n",
       "  'word.isdigit()': False,\n",
       "  'postag': 'SP',\n",
       "  'postag[:2]': 'SP',\n",
       "  '-1:word.lower()': 'básicos',\n",
       "  '-1:word.istitle()': False,\n",
       "  '-1:word.isupper()': False,\n",
       "  '-1:postag': 'AQ',\n",
       "  '-1:postag[:2]': 'AQ',\n",
       "  '+1:word.lower()': 'la',\n",
       "  '+1:word.istitle()': False,\n",
       "  '+1:word.isupper()': False,\n",
       "  '+1:postag': 'DA',\n",
       "  '+1:postag[:2]': 'DA'},\n",
       " {'bias': 1.0,\n",
       "  'word.lower()': 'la',\n",
       "  'word[-3:]': 'la',\n",
       "  'word[-2:]': 'la',\n",
       "  'word.isupper()': False,\n",
       "  'word.istitle()': False,\n",
       "  'word.isdigit()': False,\n",
       "  'postag': 'DA',\n",
       "  'postag[:2]': 'DA',\n",
       "  '-1:word.lower()': 'de',\n",
       "  '-1:word.istitle()': False,\n",
       "  '-1:word.isupper()': False,\n",
       "  '-1:postag': 'SP',\n",
       "  '-1:postag[:2]': 'SP',\n",
       "  '+1:word.lower()': 'ley',\n",
       "  '+1:word.istitle()': True,\n",
       "  '+1:word.isupper()': False,\n",
       "  '+1:postag': 'NC',\n",
       "  '+1:postag[:2]': 'NC'},\n",
       " {'bias': 1.0,\n",
       "  'word.lower()': 'ley',\n",
       "  'word[-3:]': 'Ley',\n",
       "  'word[-2:]': 'ey',\n",
       "  'word.isupper()': False,\n",
       "  'word.istitle()': True,\n",
       "  'word.isdigit()': False,\n",
       "  'postag': 'NC',\n",
       "  'postag[:2]': 'NC',\n",
       "  '-1:word.lower()': 'la',\n",
       "  '-1:word.istitle()': False,\n",
       "  '-1:word.isupper()': False,\n",
       "  '-1:postag': 'DA',\n",
       "  '-1:postag[:2]': 'DA',\n",
       "  '+1:word.lower()': '.',\n",
       "  '+1:word.istitle()': False,\n",
       "  '+1:word.isupper()': False,\n",
       "  '+1:postag': 'Fp',\n",
       "  '+1:postag[:2]': 'Fp'},\n",
       " {'bias': 1.0,\n",
       "  'word.lower()': '.',\n",
       "  'word[-3:]': '.',\n",
       "  'word[-2:]': '.',\n",
       "  'word.isupper()': False,\n",
       "  'word.istitle()': False,\n",
       "  'word.isdigit()': False,\n",
       "  'postag': 'Fp',\n",
       "  'postag[:2]': 'Fp',\n",
       "  '-1:word.lower()': 'ley',\n",
       "  '-1:word.istitle()': True,\n",
       "  '-1:word.isupper()': False,\n",
       "  '-1:postag': 'NC',\n",
       "  '-1:postag[:2]': 'NC',\n",
       "  'EOS': True}]"
      ]
     },
     "execution_count": 10,
     "metadata": {},
     "output_type": "execute_result"
    }
   ],
   "source": [
    "sent2features(train_sents[2])"
   ]
  },
  {
   "cell_type": "markdown",
   "metadata": {
    "id": "zk_xexVLRrpf"
   },
   "source": [
    "### Feature Extraction:\n",
    "\n",
    "Extract features from the training data and testing data"
   ]
  },
  {
   "cell_type": "code",
   "execution_count": 11,
   "metadata": {
    "id": "AmjwjGB817dp"
   },
   "outputs": [],
   "source": [
    "# sentence representations for sequence labelling\n",
    "X_train = [sent2features(s) for s in train_sents]\n",
    "y_train = [sent2labels(s) for s in train_sents]\n",
    "\n",
    "X_test = [sent2features(s) for s in test_sents]\n",
    "y_test = [sent2labels(s) for s in test_sents]"
   ]
  },
  {
   "cell_type": "code",
   "execution_count": 12,
   "metadata": {
    "colab": {
     "base_uri": "https://localhost:8080/",
     "height": 225
    },
    "executionInfo": {
     "elapsed": 994,
     "status": "ok",
     "timestamp": 1594609267345,
     "user": {
      "displayName": "AI3 member",
      "photoUrl": "",
      "userId": "02800686538475887838"
     },
     "user_tz": -480
    },
    "id": "dIuFaNU82l-6",
    "outputId": "c7764679-e72e-46ab-ddb7-b36ba6011ecd"
   },
   "outputs": [
    {
     "data": {
      "text/plain": [
       "([('Melbourne', 'NP', 'B-LOC'),\n",
       "  ('(', 'Fpa', 'O'),\n",
       "  ('Australia', 'NP', 'B-LOC'),\n",
       "  (')', 'Fpt', 'O'),\n",
       "  (',', 'Fc', 'O'),\n",
       "  ('25', 'Z', 'O'),\n",
       "  ('may', 'NC', 'O'),\n",
       "  ('(', 'Fpa', 'O'),\n",
       "  ('EFE', 'NC', 'B-ORG'),\n",
       "  (')', 'Fpt', 'O'),\n",
       "  ('.', 'Fp', 'O')],\n",
       " ['B-LOC', 'O', 'B-LOC', 'O', 'O', 'O', 'O', 'O', 'B-ORG', 'O', 'O'])"
      ]
     },
     "execution_count": 12,
     "metadata": {},
     "output_type": "execute_result"
    }
   ],
   "source": [
    "train_sents[0], y_train[0]"
   ]
  },
  {
   "cell_type": "code",
   "execution_count": 13,
   "metadata": {
    "colab": {
     "base_uri": "https://localhost:8080/",
     "height": 1000
    },
    "executionInfo": {
     "elapsed": 629,
     "status": "ok",
     "timestamp": 1594609268351,
     "user": {
      "displayName": "AI3 member",
      "photoUrl": "",
      "userId": "02800686538475887838"
     },
     "user_tz": -480
    },
    "id": "TVDPXw9FRrpm",
    "outputId": "aae004cd-89fe-4376-82f5-949679b871ea"
   },
   "outputs": [
    {
     "data": {
      "text/plain": [
       "([{'bias': 1.0,\n",
       "   'word.lower()': 'melbourne',\n",
       "   'word[-3:]': 'rne',\n",
       "   'word[-2:]': 'ne',\n",
       "   'word.isupper()': False,\n",
       "   'word.istitle()': True,\n",
       "   'word.isdigit()': False,\n",
       "   'postag': 'NP',\n",
       "   'postag[:2]': 'NP',\n",
       "   'BOS': True,\n",
       "   '+1:word.lower()': '(',\n",
       "   '+1:word.istitle()': False,\n",
       "   '+1:word.isupper()': False,\n",
       "   '+1:postag': 'Fpa',\n",
       "   '+1:postag[:2]': 'Fp'},\n",
       "  {'bias': 1.0,\n",
       "   'word.lower()': '(',\n",
       "   'word[-3:]': '(',\n",
       "   'word[-2:]': '(',\n",
       "   'word.isupper()': False,\n",
       "   'word.istitle()': False,\n",
       "   'word.isdigit()': False,\n",
       "   'postag': 'Fpa',\n",
       "   'postag[:2]': 'Fp',\n",
       "   '-1:word.lower()': 'melbourne',\n",
       "   '-1:word.istitle()': True,\n",
       "   '-1:word.isupper()': False,\n",
       "   '-1:postag': 'NP',\n",
       "   '-1:postag[:2]': 'NP',\n",
       "   '+1:word.lower()': 'australia',\n",
       "   '+1:word.istitle()': True,\n",
       "   '+1:word.isupper()': False,\n",
       "   '+1:postag': 'NP',\n",
       "   '+1:postag[:2]': 'NP'},\n",
       "  {'bias': 1.0,\n",
       "   'word.lower()': 'australia',\n",
       "   'word[-3:]': 'lia',\n",
       "   'word[-2:]': 'ia',\n",
       "   'word.isupper()': False,\n",
       "   'word.istitle()': True,\n",
       "   'word.isdigit()': False,\n",
       "   'postag': 'NP',\n",
       "   'postag[:2]': 'NP',\n",
       "   '-1:word.lower()': '(',\n",
       "   '-1:word.istitle()': False,\n",
       "   '-1:word.isupper()': False,\n",
       "   '-1:postag': 'Fpa',\n",
       "   '-1:postag[:2]': 'Fp',\n",
       "   '+1:word.lower()': ')',\n",
       "   '+1:word.istitle()': False,\n",
       "   '+1:word.isupper()': False,\n",
       "   '+1:postag': 'Fpt',\n",
       "   '+1:postag[:2]': 'Fp'},\n",
       "  {'bias': 1.0,\n",
       "   'word.lower()': ')',\n",
       "   'word[-3:]': ')',\n",
       "   'word[-2:]': ')',\n",
       "   'word.isupper()': False,\n",
       "   'word.istitle()': False,\n",
       "   'word.isdigit()': False,\n",
       "   'postag': 'Fpt',\n",
       "   'postag[:2]': 'Fp',\n",
       "   '-1:word.lower()': 'australia',\n",
       "   '-1:word.istitle()': True,\n",
       "   '-1:word.isupper()': False,\n",
       "   '-1:postag': 'NP',\n",
       "   '-1:postag[:2]': 'NP',\n",
       "   '+1:word.lower()': ',',\n",
       "   '+1:word.istitle()': False,\n",
       "   '+1:word.isupper()': False,\n",
       "   '+1:postag': 'Fc',\n",
       "   '+1:postag[:2]': 'Fc'},\n",
       "  {'bias': 1.0,\n",
       "   'word.lower()': ',',\n",
       "   'word[-3:]': ',',\n",
       "   'word[-2:]': ',',\n",
       "   'word.isupper()': False,\n",
       "   'word.istitle()': False,\n",
       "   'word.isdigit()': False,\n",
       "   'postag': 'Fc',\n",
       "   'postag[:2]': 'Fc',\n",
       "   '-1:word.lower()': ')',\n",
       "   '-1:word.istitle()': False,\n",
       "   '-1:word.isupper()': False,\n",
       "   '-1:postag': 'Fpt',\n",
       "   '-1:postag[:2]': 'Fp',\n",
       "   '+1:word.lower()': '25',\n",
       "   '+1:word.istitle()': False,\n",
       "   '+1:word.isupper()': False,\n",
       "   '+1:postag': 'Z',\n",
       "   '+1:postag[:2]': 'Z'},\n",
       "  {'bias': 1.0,\n",
       "   'word.lower()': '25',\n",
       "   'word[-3:]': '25',\n",
       "   'word[-2:]': '25',\n",
       "   'word.isupper()': False,\n",
       "   'word.istitle()': False,\n",
       "   'word.isdigit()': True,\n",
       "   'postag': 'Z',\n",
       "   'postag[:2]': 'Z',\n",
       "   '-1:word.lower()': ',',\n",
       "   '-1:word.istitle()': False,\n",
       "   '-1:word.isupper()': False,\n",
       "   '-1:postag': 'Fc',\n",
       "   '-1:postag[:2]': 'Fc',\n",
       "   '+1:word.lower()': 'may',\n",
       "   '+1:word.istitle()': False,\n",
       "   '+1:word.isupper()': False,\n",
       "   '+1:postag': 'NC',\n",
       "   '+1:postag[:2]': 'NC'},\n",
       "  {'bias': 1.0,\n",
       "   'word.lower()': 'may',\n",
       "   'word[-3:]': 'may',\n",
       "   'word[-2:]': 'ay',\n",
       "   'word.isupper()': False,\n",
       "   'word.istitle()': False,\n",
       "   'word.isdigit()': False,\n",
       "   'postag': 'NC',\n",
       "   'postag[:2]': 'NC',\n",
       "   '-1:word.lower()': '25',\n",
       "   '-1:word.istitle()': False,\n",
       "   '-1:word.isupper()': False,\n",
       "   '-1:postag': 'Z',\n",
       "   '-1:postag[:2]': 'Z',\n",
       "   '+1:word.lower()': '(',\n",
       "   '+1:word.istitle()': False,\n",
       "   '+1:word.isupper()': False,\n",
       "   '+1:postag': 'Fpa',\n",
       "   '+1:postag[:2]': 'Fp'},\n",
       "  {'bias': 1.0,\n",
       "   'word.lower()': '(',\n",
       "   'word[-3:]': '(',\n",
       "   'word[-2:]': '(',\n",
       "   'word.isupper()': False,\n",
       "   'word.istitle()': False,\n",
       "   'word.isdigit()': False,\n",
       "   'postag': 'Fpa',\n",
       "   'postag[:2]': 'Fp',\n",
       "   '-1:word.lower()': 'may',\n",
       "   '-1:word.istitle()': False,\n",
       "   '-1:word.isupper()': False,\n",
       "   '-1:postag': 'NC',\n",
       "   '-1:postag[:2]': 'NC',\n",
       "   '+1:word.lower()': 'efe',\n",
       "   '+1:word.istitle()': False,\n",
       "   '+1:word.isupper()': True,\n",
       "   '+1:postag': 'NC',\n",
       "   '+1:postag[:2]': 'NC'},\n",
       "  {'bias': 1.0,\n",
       "   'word.lower()': 'efe',\n",
       "   'word[-3:]': 'EFE',\n",
       "   'word[-2:]': 'FE',\n",
       "   'word.isupper()': True,\n",
       "   'word.istitle()': False,\n",
       "   'word.isdigit()': False,\n",
       "   'postag': 'NC',\n",
       "   'postag[:2]': 'NC',\n",
       "   '-1:word.lower()': '(',\n",
       "   '-1:word.istitle()': False,\n",
       "   '-1:word.isupper()': False,\n",
       "   '-1:postag': 'Fpa',\n",
       "   '-1:postag[:2]': 'Fp',\n",
       "   '+1:word.lower()': ')',\n",
       "   '+1:word.istitle()': False,\n",
       "   '+1:word.isupper()': False,\n",
       "   '+1:postag': 'Fpt',\n",
       "   '+1:postag[:2]': 'Fp'},\n",
       "  {'bias': 1.0,\n",
       "   'word.lower()': ')',\n",
       "   'word[-3:]': ')',\n",
       "   'word[-2:]': ')',\n",
       "   'word.isupper()': False,\n",
       "   'word.istitle()': False,\n",
       "   'word.isdigit()': False,\n",
       "   'postag': 'Fpt',\n",
       "   'postag[:2]': 'Fp',\n",
       "   '-1:word.lower()': 'efe',\n",
       "   '-1:word.istitle()': False,\n",
       "   '-1:word.isupper()': True,\n",
       "   '-1:postag': 'NC',\n",
       "   '-1:postag[:2]': 'NC',\n",
       "   '+1:word.lower()': '.',\n",
       "   '+1:word.istitle()': False,\n",
       "   '+1:word.isupper()': False,\n",
       "   '+1:postag': 'Fp',\n",
       "   '+1:postag[:2]': 'Fp'},\n",
       "  {'bias': 1.0,\n",
       "   'word.lower()': '.',\n",
       "   'word[-3:]': '.',\n",
       "   'word[-2:]': '.',\n",
       "   'word.isupper()': False,\n",
       "   'word.istitle()': False,\n",
       "   'word.isdigit()': False,\n",
       "   'postag': 'Fp',\n",
       "   'postag[:2]': 'Fp',\n",
       "   '-1:word.lower()': ')',\n",
       "   '-1:word.istitle()': False,\n",
       "   '-1:word.isupper()': False,\n",
       "   '-1:postag': 'Fpt',\n",
       "   '-1:postag[:2]': 'Fp',\n",
       "   'EOS': True}],\n",
       " ['B-LOC', 'O', 'B-LOC', 'O', 'O', 'O', 'O', 'O', 'B-ORG', 'O', 'O'])"
      ]
     },
     "execution_count": 13,
     "metadata": {},
     "output_type": "execute_result"
    }
   ],
   "source": [
    "X_train[0], y_train[0]"
   ]
  },
  {
   "cell_type": "markdown",
   "metadata": {
    "id": "OkDc2ijbRrpq"
   },
   "source": [
    "### Training\n",
    "Here we are using L-BFGS training algorithm (it is default) with Elastic Net (L1 + L2) regularization."
   ]
  },
  {
   "cell_type": "code",
   "execution_count": 14,
   "metadata": {
    "colab": {
     "base_uri": "https://localhost:8080/",
     "height": 104
    },
    "executionInfo": {
     "elapsed": 4431,
     "status": "ok",
     "timestamp": 1594609275010,
     "user": {
      "displayName": "AI3 member",
      "photoUrl": "",
      "userId": "02800686538475887838"
     },
     "user_tz": -480
    },
    "id": "jJyWWkbx2I7p",
    "outputId": "0d9a56bb-6927-43e2-fb99-2ed0f65a1f08"
   },
   "outputs": [],
   "source": [
    "# train CRF model\n",
    "# !pip install sklearn_crfsuite\n",
    "import sklearn_crfsuite\n",
    "crf = sklearn_crfsuite.CRF(\n",
    "    algorithm='lbfgs',\n",
    "    c1=0.1,\n",
    "    c2=0.1,\n",
    "    max_iterations=100,\n",
    "    all_possible_transitions=True\n",
    ")\n",
    "\n"
   ]
  },
  {
   "cell_type": "code",
   "execution_count": 15,
   "metadata": {
    "colab": {
     "base_uri": "https://localhost:8080/",
     "height": 193
    },
    "executionInfo": {
     "elapsed": 968,
     "status": "ok",
     "timestamp": 1594609275987,
     "user": {
      "displayName": "AI3 member",
      "photoUrl": "",
      "userId": "02800686538475887838"
     },
     "user_tz": -480
    },
    "id": "Ja9VIf7SRrpt",
    "outputId": "5513aa73-40b8-469a-af96-e1cb2b36a64f"
   },
   "outputs": [
    {
     "name": "stderr",
     "output_type": "stream",
     "text": [
      "/usr/local/lib/python3.7/site-packages/sklearn/base.py:213: FutureWarning: From version 0.24, get_params will raise an AttributeError if a parameter cannot be retrieved as an instance attribute. Previously it would return None.\n",
      "  FutureWarning)\n"
     ]
    },
    {
     "data": {
      "text/plain": [
       "CRF(algorithm='lbfgs', all_possible_transitions=True, c1=0.1, c2=0.1,\n",
       "    keep_tempfiles=None, max_iterations=100)"
      ]
     },
     "execution_count": 15,
     "metadata": {},
     "output_type": "execute_result"
    }
   ],
   "source": [
    "crf"
   ]
  },
  {
   "cell_type": "code",
   "execution_count": 16,
   "metadata": {
    "colab": {
     "base_uri": "https://localhost:8080/",
     "height": 193
    },
    "executionInfo": {
     "elapsed": 45571,
     "status": "ok",
     "timestamp": 1594609320602,
     "user": {
      "displayName": "AI3 member",
      "photoUrl": "",
      "userId": "02800686538475887838"
     },
     "user_tz": -480
    },
    "id": "gCX9S-VbRrpw",
    "outputId": "697226db-d931-4787-f9ca-b44f790519af"
   },
   "outputs": [
    {
     "data": {
      "text/plain": [
       "CRF(algorithm='lbfgs', all_possible_transitions=True, c1=0.1, c2=0.1,\n",
       "    keep_tempfiles=None, max_iterations=100)"
      ]
     },
     "execution_count": 16,
     "metadata": {},
     "output_type": "execute_result"
    }
   ],
   "source": [
    "crf.fit(X_train, y_train)\n",
    "\n",
    "# training model parameters"
   ]
  },
  {
   "cell_type": "markdown",
   "metadata": {
    "id": "u1rTPZHVRrpz"
   },
   "source": [
    "### Evaluation\n",
    "There is much more O entities in data set, but we’re more interested in other entities. To account for this we’ll use averaged F1 score computed for all labels except for O. sklearn-crfsuite.metrics package provides some useful metrics for sequence classification task, including this one."
   ]
  },
  {
   "cell_type": "code",
   "execution_count": 17,
   "metadata": {
    "colab": {
     "base_uri": "https://localhost:8080/",
     "height": 34
    },
    "executionInfo": {
     "elapsed": 45104,
     "status": "ok",
     "timestamp": 1594609320606,
     "user": {
      "displayName": "AI3 member",
      "photoUrl": "",
      "userId": "02800686538475887838"
     },
     "user_tz": -480
    },
    "id": "hN-RvWGZ25xJ",
    "outputId": "10efdf56-8a8c-49b4-e4be-0ef207be5fc7"
   },
   "outputs": [
    {
     "name": "stdout",
     "output_type": "stream",
     "text": [
      "['B-LOC', 'B-ORG', 'B-PER', 'I-PER', 'B-MISC', 'I-ORG', 'I-LOC', 'I-MISC']\n"
     ]
    }
   ],
   "source": [
    "# get label set\n",
    "labels = list(crf.classes_)\n",
    "labels.remove('O')\n",
    "print(labels)"
   ]
  },
  {
   "cell_type": "code",
   "execution_count": 18,
   "metadata": {
    "colab": {
     "base_uri": "https://localhost:8080/",
     "height": 34
    },
    "executionInfo": {
     "elapsed": 44592,
     "status": "ok",
     "timestamp": 1594609321103,
     "user": {
      "displayName": "AI3 member",
      "photoUrl": "",
      "userId": "02800686538475887838"
     },
     "user_tz": -480
    },
    "id": "PdTxgk0Z3EX4",
    "outputId": "41425b81-b038-4f6d-b8d6-5a930e890359"
   },
   "outputs": [
    {
     "data": {
      "text/plain": [
       "0.7964686316443963"
      ]
     },
     "execution_count": 18,
     "metadata": {},
     "output_type": "execute_result"
    }
   ],
   "source": [
    "# evaluate CRF model\n",
    "from sklearn_crfsuite import metrics\n",
    "\n",
    "y_pred = crf.predict(X_test)\n",
    "metrics.flat_f1_score(y_test, y_pred, average='weighted', labels=labels)"
   ]
  },
  {
   "cell_type": "code",
   "execution_count": 19,
   "metadata": {
    "colab": {
     "base_uri": "https://localhost:8080/",
     "height": 34
    },
    "executionInfo": {
     "elapsed": 40643,
     "status": "ok",
     "timestamp": 1594604007434,
     "user": {
      "displayName": "AI3 member",
      "photoUrl": "",
      "userId": "02800686538475887838"
     },
     "user_tz": -480
    },
    "id": "WVNbvrgrRrp6",
    "outputId": "1619967a-536e-40ba-e86f-4640dc9e9f91"
   },
   "outputs": [
    {
     "data": {
      "text/plain": [
       "['B-LOC', 'I-LOC', 'O', 'O', 'O', 'O', 'B-ORG', 'O', 'O']"
      ]
     },
     "execution_count": 19,
     "metadata": {},
     "output_type": "execute_result"
    }
   ],
   "source": [
    "y_pred[0]"
   ]
  },
  {
   "cell_type": "markdown",
   "metadata": {
    "id": "thb1I8SRRrp9"
   },
   "source": [
    "### Inspect per-class results in more detail:"
   ]
  },
  {
   "cell_type": "code",
   "execution_count": 27,
   "metadata": {
    "colab": {
     "base_uri": "https://localhost:8080/",
     "height": 278
    },
    "executionInfo": {
     "elapsed": 43351,
     "status": "ok",
     "timestamp": 1594609321771,
     "user": {
      "displayName": "AI3 member",
      "photoUrl": "",
      "userId": "02800686538475887838"
     },
     "user_tz": -480
    },
    "id": "l9wfAp8iRrp9",
    "outputId": "f3bf3543-2f58-416c-84d2-c830cdfa8e81"
   },
   "outputs": [
    {
     "name": "stdout",
     "output_type": "stream",
     "text": [
      "              precision    recall  f1-score   support\n",
      "\n",
      "       B-LOC      0.810     0.784     0.797      1084\n",
      "       I-LOC      0.690     0.637     0.662       325\n",
      "      B-MISC      0.731     0.569     0.640       339\n",
      "      I-MISC      0.699     0.589     0.639       557\n",
      "       B-ORG      0.807     0.832     0.820      1400\n",
      "       I-ORG      0.852     0.786     0.818      1104\n",
      "       B-PER      0.850     0.884     0.867       735\n",
      "       I-PER      0.893     0.943     0.917       634\n",
      "\n",
      "   micro avg      0.813     0.787     0.799      6178\n",
      "   macro avg      0.791     0.753     0.770      6178\n",
      "weighted avg      0.809     0.787     0.796      6178\n",
      "\n"
     ]
    }
   ],
   "source": [
    "# group B and I results\n",
    "sorted_labels = sorted(\n",
    "    labels,\n",
    "    key=lambda name: (name[1:], name[0])\n",
    ")\n",
    "print(metrics.flat_classification_report(\n",
    "    y_test, y_pred, labels=sorted_labels, digits=3\n",
    "))"
   ]
  },
  {
   "cell_type": "code",
   "execution_count": null,
   "metadata": {},
   "outputs": [],
   "source": []
  },
  {
   "cell_type": "code",
   "execution_count": null,
   "metadata": {},
   "outputs": [],
   "source": []
  }
 ],
 "metadata": {
  "colab": {
   "collapsed_sections": [],
   "name": "NLP hands-on 3 NER CRF spacy.ipynb",
   "provenance": []
  },
  "kernelspec": {
   "display_name": "Python 3",
   "language": "python",
   "name": "python3"
  },
  "language_info": {
   "codemirror_mode": {
    "name": "ipython",
    "version": 3
   },
   "file_extension": ".py",
   "mimetype": "text/x-python",
   "name": "python",
   "nbconvert_exporter": "python",
   "pygments_lexer": "ipython3",
   "version": "3.7.4"
  },
  "latex_envs": {
   "LaTeX_envs_menu_present": true,
   "autoclose": false,
   "autocomplete": true,
   "bibliofile": "biblio.bib",
   "cite_by": "apalike",
   "current_citInitial": 1,
   "eqLabelWithNumbers": true,
   "eqNumInitial": 1,
   "hotkeys": {
    "equation": "Ctrl-E",
    "itemize": "Ctrl-I"
   },
   "labels_anchors": false,
   "latex_user_defs": false,
   "report_style_numbering": false,
   "user_envs_cfg": false
  },
  "toc": {
   "base_numbering": 1,
   "nav_menu": {},
   "number_sections": true,
   "sideBar": true,
   "skip_h1_title": false,
   "title_cell": "Table of Contents",
   "title_sidebar": "Contents",
   "toc_cell": false,
   "toc_position": {
    "height": "calc(100% - 180px)",
    "left": "10px",
    "top": "150px",
    "width": "195.2px"
   },
   "toc_section_display": true,
   "toc_window_display": true
  }
 },
 "nbformat": 4,
 "nbformat_minor": 1
}
