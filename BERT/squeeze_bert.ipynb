{
 "cells": [
  {
   "cell_type": "code",
   "execution_count": 331,
   "metadata": {},
   "outputs": [],
   "source": [
    "import tensorflow as tf\n",
    "import torch as tc\n",
    "import torch.nn as nn\n",
    "import torch.nn.functional as F\n",
    "import math\n",
    "\n",
    "ACT2FN = {\n",
    "    \"relu\": F.relu,\n",
    "    \"gelu\": F.gelu,\n",
    "    \"tanh\": torch.tanh,\n",
    "    \"sigmoid\": torch.sigmoid,\n",
    "}\n",
    "\n",
    "tf.random.set_seed(42)"
   ]
  },
  {
   "cell_type": "code",
   "execution_count": 32,
   "metadata": {},
   "outputs": [],
   "source": [
    "inp = tf.random.uniform(shape=(8, 30), minval=1, maxval=1000, dtype=tf.int32)"
   ]
  },
  {
   "cell_type": "code",
   "execution_count": 122,
   "metadata": {},
   "outputs": [],
   "source": [
    "embedding = tf.keras.layers.Embedding(1000, 768)"
   ]
  },
  {
   "cell_type": "code",
   "execution_count": 123,
   "metadata": {},
   "outputs": [
    {
     "data": {
      "text/plain": [
       "TensorShape([8, 30, 768])"
      ]
     },
     "execution_count": 123,
     "metadata": {},
     "output_type": "execute_result"
    }
   ],
   "source": [
    "embed = embedding(inp)\n",
    "embed.shape"
   ]
  },
  {
   "cell_type": "code",
   "execution_count": 126,
   "metadata": {},
   "outputs": [],
   "source": [
    "conv = tf.keras.layers.Conv1D(filters=3072, kernel_size=1, strides=(1, ), padding=\"same\", activation='relu')"
   ]
  },
  {
   "cell_type": "code",
   "execution_count": 127,
   "metadata": {},
   "outputs": [
    {
     "data": {
      "text/plain": [
       "TensorShape([8, 30, 3072])"
      ]
     },
     "execution_count": 127,
     "metadata": {},
     "output_type": "execute_result"
    }
   ],
   "source": [
    "conv(embed).shape"
   ]
  },
  {
   "cell_type": "code",
   "execution_count": null,
   "metadata": {},
   "outputs": [],
   "source": []
  },
  {
   "cell_type": "code",
   "execution_count": null,
   "metadata": {},
   "outputs": [],
   "source": []
  },
  {
   "cell_type": "code",
   "execution_count": 210,
   "metadata": {},
   "outputs": [],
   "source": [
    "tc.random.manual_seed(42)\n",
    "inp2 = tc.randint(1, 1000, (8, 30), dtype=tc.long)"
   ]
  },
  {
   "cell_type": "code",
   "execution_count": 211,
   "metadata": {},
   "outputs": [],
   "source": [
    "embedding2 = tc.nn.Embedding(1000, 768)"
   ]
  },
  {
   "cell_type": "code",
   "execution_count": 231,
   "metadata": {},
   "outputs": [
    {
     "data": {
      "text/plain": [
       "torch.Size([8, 30, 768])"
      ]
     },
     "execution_count": 231,
     "metadata": {},
     "output_type": "execute_result"
    }
   ],
   "source": [
    "embed2 = embedding2(inp2)\n",
    "embed2.shape"
   ]
  },
  {
   "cell_type": "code",
   "execution_count": 232,
   "metadata": {},
   "outputs": [],
   "source": [
    "conv2 = nn.Conv1d(768, 3072, 1, (1,), groups=1)"
   ]
  },
  {
   "cell_type": "code",
   "execution_count": 319,
   "metadata": {},
   "outputs": [
    {
     "data": {
      "text/plain": [
       "torch.Size([8, 3072, 30])"
      ]
     },
     "execution_count": 319,
     "metadata": {},
     "output_type": "execute_result"
    }
   ],
   "source": [
    "conv2(embed2.permute(0, 2, 1)).shape"
   ]
  },
  {
   "cell_type": "code",
   "execution_count": null,
   "metadata": {},
   "outputs": [],
   "source": []
  },
  {
   "cell_type": "code",
   "execution_count": null,
   "metadata": {},
   "outputs": [],
   "source": []
  },
  {
   "cell_type": "code",
   "execution_count": 154,
   "metadata": {},
   "outputs": [],
   "source": [
    "class SqueezeBertConfig():\n",
    "\n",
    "    def __init__(\n",
    "        self,\n",
    "        vocab_size=30522,\n",
    "        hidden_size=768,\n",
    "        num_hidden_layers=12,\n",
    "        num_attention_heads=12,\n",
    "        intermediate_size=3072,\n",
    "        hidden_act=\"gelu\",\n",
    "        hidden_dropout_prob=0.1,\n",
    "        attention_probs_dropout_prob=0.1,\n",
    "        max_position_embeddings=512,\n",
    "        type_vocab_size=2,\n",
    "        initializer_range=0.02,\n",
    "        layer_norm_eps=1e-12,\n",
    "        pad_token_id=0,\n",
    "        embedding_size=768,\n",
    "        q_groups=4,\n",
    "        k_groups=4,\n",
    "        v_groups=4,\n",
    "        post_attention_groups=1,\n",
    "        intermediate_groups=4,\n",
    "        output_groups=4,\n",
    "        **kwargs\n",
    "    ):\n",
    "        super().__init__(**kwargs)\n",
    "        \n",
    "        self.pad_token_id = pad_token_id\n",
    "        self.vocab_size = vocab_size\n",
    "        self.hidden_size = hidden_size\n",
    "        self.num_hidden_layers = num_hidden_layers\n",
    "        self.num_attention_heads = num_attention_heads\n",
    "        self.hidden_act = hidden_act\n",
    "        self.intermediate_size = intermediate_size\n",
    "        self.hidden_dropout_prob = hidden_dropout_prob\n",
    "        self.attention_probs_dropout_prob = attention_probs_dropout_prob\n",
    "        self.max_position_embeddings = max_position_embeddings\n",
    "        self.type_vocab_size = type_vocab_size\n",
    "        self.initializer_range = initializer_range\n",
    "        self.layer_norm_eps = layer_norm_eps\n",
    "        self.embedding_size = embedding_size\n",
    "        self.q_groups = q_groups\n",
    "        self.k_groups = k_groups\n",
    "        self.v_groups = v_groups\n",
    "        self.post_attention_groups = post_attention_groups\n",
    "        self.intermediate_groups = intermediate_groups\n",
    "        self.output_groups = output_groups"
   ]
  },
  {
   "cell_type": "code",
   "execution_count": 155,
   "metadata": {},
   "outputs": [],
   "source": [
    "config = SqueezeBertConfig()"
   ]
  },
  {
   "cell_type": "code",
   "execution_count": 157,
   "metadata": {},
   "outputs": [],
   "source": [
    "class SqueezeBertEmbeddings(nn.Module):\n",
    "    \"\"\"Construct the embeddings from word, position and token_type embeddings.\"\"\"\n",
    "\n",
    "    def __init__(self, config):\n",
    "        super().__init__()\n",
    "        self.word_embeddings = nn.Embedding(\n",
    "            config.vocab_size, config.embedding_size, padding_idx=config.pad_token_id)\n",
    "        self.position_embeddings = nn.Embedding(config.max_position_embeddings, config.embedding_size)\n",
    "        self.token_type_embeddings = nn.Embedding(config.type_vocab_size, config.embedding_size)\n",
    "\n",
    "        # self.LayerNorm is not snake-cased to stick with TensorFlow model variable name and be able to load\n",
    "        # any TensorFlow checkpoint file\n",
    "        self.LayerNorm = nn.LayerNorm(config.hidden_size, eps=config.layer_norm_eps)\n",
    "        self.dropout = nn.Dropout(config.hidden_dropout_prob)\n",
    "\n",
    "        # position_ids (1, len position emb) is contiguous in memory and exported when serialized\n",
    "        self.register_buffer(\"position_ids\", torch.arange(config.max_position_embeddings).expand((1, -1)))\n",
    "\n",
    "    def forward(self, input_ids=None, token_type_ids=None, position_ids=None, inputs_embeds=None):\n",
    "        if input_ids is not None:\n",
    "            input_shape = input_ids.size()\n",
    "        else:\n",
    "            input_shape = inputs_embeds.size()[:-1]\n",
    "\n",
    "        seq_length = input_shape[1]\n",
    "\n",
    "        if position_ids is None:\n",
    "            position_ids = self.position_ids[:, :seq_length]\n",
    "\n",
    "        if token_type_ids is None:\n",
    "            token_type_ids = torch.zeros(input_shape, dtype=torch.long, device=self.position_ids.device)\n",
    "\n",
    "        if inputs_embeds is None:\n",
    "            inputs_embeds = self.word_embeddings(input_ids)\n",
    "        position_embeddings = self.position_embeddings(position_ids)\n",
    "        token_type_embeddings = self.token_type_embeddings(token_type_ids)\n",
    "\n",
    "        embeddings = inputs_embeds + position_embeddings + token_type_embeddings\n",
    "        embeddings = self.LayerNorm(embeddings)\n",
    "        embeddings = self.dropout(embeddings)\n",
    "        return embeddings"
   ]
  },
  {
   "cell_type": "code",
   "execution_count": 214,
   "metadata": {},
   "outputs": [],
   "source": [
    "sbe = SqueezeBertEmbeddings(config)"
   ]
  },
  {
   "cell_type": "code",
   "execution_count": 215,
   "metadata": {},
   "outputs": [
    {
     "data": {
      "text/plain": [
       "torch.Size([8, 30, 768])"
      ]
     },
     "execution_count": 215,
     "metadata": {},
     "output_type": "execute_result"
    }
   ],
   "source": [
    "ebd = sbe(inp2)\n",
    "ebd.shape"
   ]
  },
  {
   "cell_type": "code",
   "execution_count": 386,
   "metadata": {},
   "outputs": [],
   "source": [
    "class SqueezeBertSelfAttention(nn.Module):\n",
    "    def __init__(self, config, cin, q_groups=1, k_groups=1, v_groups=1):\n",
    "        super().__init__()\n",
    "        if cin % config.num_attention_heads != 0:\n",
    "            raise ValueError(\n",
    "                \"cin (%d) is not a multiple of the number of attention \"\n",
    "                \"heads (%d)\" % (cin, config.num_attention_heads)\n",
    "            )\n",
    "        self.num_attention_heads = config.num_attention_heads\n",
    "        self.attention_head_size = int(cin / config.num_attention_heads)\n",
    "        self.all_head_size = self.num_attention_heads * self.attention_head_size\n",
    "\n",
    "        self.query = nn.Conv1d(in_channels=cin, out_channels=cin, kernel_size=1, groups=q_groups)\n",
    "        self.key = nn.Conv1d(in_channels=cin, out_channels=cin, kernel_size=1, groups=k_groups)\n",
    "        self.value = nn.Conv1d(in_channels=cin, out_channels=cin, kernel_size=1, groups=v_groups)\n",
    "\n",
    "        self.dropout = nn.Dropout(config.attention_probs_dropout_prob)\n",
    "        self.softmax = nn.Softmax(dim=-1)\n",
    "\n",
    "        self.matmul_qk = MatMulWrapper()\n",
    "        self.matmul_qkv = MatMulWrapper()\n",
    "\n",
    "    def transpose_for_scores(self, x):\n",
    "        \"\"\"\n",
    "        - input: [N, C, W]\n",
    "        - output: [N, C1, W, C2] where C1 is the head index, and C2 is one head's contents\n",
    "        \"\"\"\n",
    "        new_x_shape = (x.size()[0], self.num_attention_heads, self.attention_head_size, x.size()[-1])  # [N, C1, C2, W]\n",
    "        x = x.view(*new_x_shape)\n",
    "        return x.permute(0, 1, 3, 2)  # [N, C1, C2, W] --> [N, C1, W, C2]\n",
    "\n",
    "    def transpose_key_for_scores(self, x):\n",
    "        \"\"\"\n",
    "        - input: [N, C, W]\n",
    "        - output: [N, C1, C2, W] where C1 is the head index, and C2 is one head's contents\n",
    "        \"\"\"\n",
    "        new_x_shape = (x.size()[0], self.num_attention_heads, self.attention_head_size, x.size()[-1])  # [N, C1, C2, W]\n",
    "        x = x.view(*new_x_shape)\n",
    "        # no `permute` needed\n",
    "        return x\n",
    "\n",
    "    def transpose_output(self, x):\n",
    "        \"\"\"\n",
    "        - input: [N, C1, W, C2]\n",
    "        - output: [N, C, W]\n",
    "        \"\"\"\n",
    "        x = x.permute(0, 1, 3, 2).contiguous()  # [N, C1, C2, W]\n",
    "        new_x_shape = (x.size()[0], self.all_head_size, x.size()[3])  # [N, C, W]\n",
    "        x = x.view(*new_x_shape)\n",
    "        return x\n",
    "\n",
    "    def forward(self, hidden_states, attention_mask, output_attentions=True):\n",
    "        \"\"\"\n",
    "        expects hidden_states in [N, C, W] data layout.\n",
    "        The attention_mask data layout is [N, W], and it does not need to be transposed.\n",
    "        \"\"\"\n",
    "        print(\"hidden_states shape: \", hidden_states.shape)\n",
    "        mixed_query_layer = self.query(hidden_states)\n",
    "        print(\"mixed_query_layer shape: \", mixed_query_layer.shape)\n",
    "        mixed_key_layer = self.key(hidden_states)\n",
    "        mixed_value_layer = self.value(hidden_states)\n",
    "\n",
    "        query_layer = self.transpose_for_scores(mixed_query_layer)\n",
    "        key_layer = self.transpose_key_for_scores(mixed_key_layer)\n",
    "        value_layer = self.transpose_for_scores(mixed_value_layer)\n",
    "\n",
    "        # Take the dot product between \"query\" and \"key\" to get the raw attention scores.\n",
    "        attention_score = self.matmul_qk(query_layer, key_layer)\n",
    "        attention_score = attention_score / math.sqrt(self.attention_head_size)\n",
    "        # Apply the attention mask is (precomputed for all layers in BertModel forward() function)\n",
    "        \n",
    "#         print(attention_score.shape)\n",
    "        attention_score = attention_score + attention_mask\n",
    "\n",
    "        # Normalize the attention scores to probabilities.\n",
    "        attention_probs = self.softmax(attention_score)\n",
    "\n",
    "        # This is actually dropping out entire tokens to attend to, which might\n",
    "        # seem a bit unusual, but is taken from the original Transformer paper.\n",
    "        attention_probs = self.dropout(attention_probs)\n",
    "\n",
    "        context_layer = self.matmul_qkv(attention_probs, value_layer)\n",
    "        context_layer = self.transpose_output(context_layer)\n",
    "\n",
    "        result = {\"context_layer\": context_layer}\n",
    "        if output_attentions:\n",
    "            result[\"attention_score\"] = attention_score\n",
    "        return result"
   ]
  },
  {
   "cell_type": "code",
   "execution_count": 395,
   "metadata": {},
   "outputs": [],
   "source": [
    "class MatMulWrapper(torch.nn.Module):\n",
    "\n",
    "    def __init__(self):\n",
    "        super().__init__()\n",
    "\n",
    "    def forward(self, mat1, mat2):\n",
    "        return torch.matmul(mat1, mat2)"
   ]
  },
  {
   "cell_type": "code",
   "execution_count": 396,
   "metadata": {},
   "outputs": [],
   "source": [
    "c0 = config.hidden_size\n",
    "c1 = config.hidden_size\n",
    "c2 = config.intermediate_size\n",
    "c3 = config.hidden_size"
   ]
  },
  {
   "cell_type": "code",
   "execution_count": 397,
   "metadata": {
    "code_folding": []
   },
   "outputs": [],
   "source": [
    "attention = SqueezeBertSelfAttention(\n",
    "            config=config, cin=c0, q_groups=config.q_groups, k_groups=config.k_groups, v_groups=config.v_groups)"
   ]
  },
  {
   "cell_type": "code",
   "execution_count": 390,
   "metadata": {},
   "outputs": [
    {
     "data": {
      "text/plain": [
       "torch.Size([8, 30])"
      ]
     },
     "execution_count": 390,
     "metadata": {},
     "output_type": "execute_result"
    }
   ],
   "source": [
    "input_shape = inp2.shape\n",
    "device = ebd.device\n",
    "am = torch.ones(input_shape, device=device)\n",
    "am.shape"
   ]
  },
  {
   "cell_type": "code",
   "execution_count": 391,
   "metadata": {},
   "outputs": [
    {
     "data": {
      "text/plain": [
       "torch.Size([8, 1, 1, 30])"
      ]
     },
     "execution_count": 391,
     "metadata": {},
     "output_type": "execute_result"
    }
   ],
   "source": [
    "eam = am[:, None, None, :]\n",
    "eam.shape"
   ]
  },
  {
   "cell_type": "code",
   "execution_count": 392,
   "metadata": {},
   "outputs": [
    {
     "data": {
      "text/plain": [
       "torch.Size([8, 768, 30])"
      ]
     },
     "execution_count": 392,
     "metadata": {},
     "output_type": "execute_result"
    }
   ],
   "source": [
    "hidden_states = ebd.permute(0, 2, 1)\n",
    "hidden_states.shape"
   ]
  },
  {
   "cell_type": "code",
   "execution_count": 561,
   "metadata": {},
   "outputs": [
    {
     "data": {
      "text/plain": [
       "torch.Size([8, 768, 30])"
      ]
     },
     "execution_count": 561,
     "metadata": {},
     "output_type": "execute_result"
    }
   ],
   "source": [
    "nc = nn.Conv1d(in_channels=768, out_channels=768, kernel_size=1, stride=(1,), groups=4)\n",
    "nc(hidden_states).shape"
   ]
  },
  {
   "cell_type": "code",
   "execution_count": 491,
   "metadata": {},
   "outputs": [
    {
     "data": {
      "text/plain": [
       "torch.Size([768, 192, 1])"
      ]
     },
     "execution_count": 491,
     "metadata": {},
     "output_type": "execute_result"
    }
   ],
   "source": [
    "nc.weight.shape"
   ]
  },
  {
   "cell_type": "code",
   "execution_count": 393,
   "metadata": {
    "scrolled": true
   },
   "outputs": [
    {
     "name": "stdout",
     "output_type": "stream",
     "text": [
      "hidden_states shape:  torch.Size([8, 768, 30])\n",
      "mixed_query_layer shape:  torch.Size([8, 768, 30])\n"
     ]
    }
   ],
   "source": [
    "ot = attention(hidden_states, attention_mask=eam)"
   ]
  },
  {
   "cell_type": "code",
   "execution_count": 384,
   "metadata": {
    "scrolled": true
   },
   "outputs": [
    {
     "data": {
      "text/plain": [
       "torch.Size([8, 768, 30])"
      ]
     },
     "execution_count": 384,
     "metadata": {},
     "output_type": "execute_result"
    }
   ],
   "source": [
    "ot[\"context_layer\"].shape"
   ]
  },
  {
   "cell_type": "code",
   "execution_count": 385,
   "metadata": {},
   "outputs": [
    {
     "data": {
      "text/plain": [
       "torch.Size([8, 12, 30, 30])"
      ]
     },
     "execution_count": 385,
     "metadata": {},
     "output_type": "execute_result"
    }
   ],
   "source": [
    "ot[\"attention_score\"].shape"
   ]
  },
  {
   "cell_type": "code",
   "execution_count": 301,
   "metadata": {},
   "outputs": [],
   "source": [
    "class SqueezeBertLayerNorm(nn.LayerNorm):\n",
    "    \"\"\"\n",
    "    This is a nn.LayerNorm subclass that accepts NCW data layout and performs normalization in the C dimension.\n",
    "    N = batch C = channels W = sequence length\n",
    "    \"\"\"\n",
    "\n",
    "    def __init__(self, hidden_size, eps=1e-12):\n",
    "        nn.LayerNorm.__init__(self, normalized_shape=hidden_size, eps=eps)  # instantiates self.{weight, bias, eps}\n",
    "\n",
    "    def forward(self, x):\n",
    "        x = x.permute(0, 2, 1)\n",
    "        x = nn.LayerNorm.forward(self, x)\n",
    "        return x.permute(0, 2, 1)"
   ]
  },
  {
   "cell_type": "code",
   "execution_count": 302,
   "metadata": {},
   "outputs": [],
   "source": [
    "class ConvDropoutLayerNorm(nn.Module):\n",
    "    \"\"\"\n",
    "    ConvDropoutLayerNorm: Conv, Dropout, LayerNorm\n",
    "    \"\"\"\n",
    "\n",
    "    def __init__(self, cin, cout, groups, dropout_prob):\n",
    "        super().__init__()\n",
    "\n",
    "        self.conv1d = nn.Conv1d(in_channels=cin, out_channels=cout, kernel_size=1, groups=groups)\n",
    "        self.layernorm = SqueezeBertLayerNorm(cout)\n",
    "        self.dropout = nn.Dropout(dropout_prob)\n",
    "\n",
    "    def forward(self, hidden_states, input_tensor):\n",
    "        x = self.conv1d(hidden_states)\n",
    "        x = self.dropout(x)\n",
    "        x = x + input_tensor\n",
    "        x = self.layernorm(x)\n",
    "        return x"
   ]
  },
  {
   "cell_type": "code",
   "execution_count": 367,
   "metadata": {},
   "outputs": [],
   "source": [
    "class ConvDropoutLayerNorm2(nn.Module):\n",
    "    \"\"\"\n",
    "    ConvDropoutLayerNorm: Conv, Dropout, LayerNorm\n",
    "    \"\"\"\n",
    "\n",
    "    def __init__(self, cin, cout, groups, dropout_prob):\n",
    "        super().__init__()\n",
    "\n",
    "        self.conv1d = nn.Conv1d(in_channels=cin, out_channels=cout, kernel_size=1, groups=groups)\n",
    "        self.layernorm = nn.LayerNorm(cout)\n",
    "        self.dropout = nn.Dropout(dropout_prob)\n",
    "\n",
    "    def forward(self, hidden_states, input_tensor):\n",
    "        x = self.conv1d(hidden_states)\n",
    "        x = self.dropout(x)\n",
    "        x = x + input_tensor\n",
    "        x = x.permute(0, 2, 1)\n",
    "        x = self.layernorm(x)\n",
    "        x = x.permute(0, 2, 1)\n",
    "        return x"
   ]
  },
  {
   "cell_type": "code",
   "execution_count": 368,
   "metadata": {},
   "outputs": [],
   "source": [
    "ao = ConvDropoutLayerNorm(c0, c1, config.post_attention_groups, dropout_prob=config.hidden_dropout_prob)"
   ]
  },
  {
   "cell_type": "code",
   "execution_count": 369,
   "metadata": {},
   "outputs": [],
   "source": [
    "ao2 = ConvDropoutLayerNorm2(c0, c1, config.post_attention_groups, dropout_prob=config.hidden_dropout_prob)"
   ]
  },
  {
   "cell_type": "code",
   "execution_count": 370,
   "metadata": {},
   "outputs": [
    {
     "name": "stdout",
     "output_type": "stream",
     "text": [
      "torch.Size([8, 30, 768])\n",
      "torch.Size([8, 30, 768])\n"
     ]
    },
    {
     "data": {
      "text/plain": [
       "torch.Size([8, 768, 30])"
      ]
     },
     "execution_count": 370,
     "metadata": {},
     "output_type": "execute_result"
    }
   ],
   "source": [
    "attn_output2 = ao2(ot[\"context_layer\"], hidden_states)\n",
    "attn_output2.shape"
   ]
  },
  {
   "cell_type": "code",
   "execution_count": 335,
   "metadata": {},
   "outputs": [
    {
     "data": {
      "text/plain": [
       "torch.Size([8, 768, 30])"
      ]
     },
     "execution_count": 335,
     "metadata": {},
     "output_type": "execute_result"
    }
   ],
   "source": [
    "attn_output = ao(ot[\"context_layer\"], hidden_states)\n",
    "attn_output.shape"
   ]
  },
  {
   "cell_type": "code",
   "execution_count": 325,
   "metadata": {},
   "outputs": [],
   "source": [
    "class ConvActivation(nn.Module):\n",
    "    \"\"\"\n",
    "    ConvActivation: Conv, Activation\n",
    "    \"\"\"\n",
    "\n",
    "    def __init__(self, cin, cout, groups, act):\n",
    "        super().__init__()\n",
    "        self.conv1d = nn.Conv1d(in_channels=cin, out_channels=cout, kernel_size=1, groups=groups)\n",
    "        self.act = ACT2FN[act]\n",
    "\n",
    "    def forward(self, x):\n",
    "        output = self.conv1d(x)\n",
    "        return self.act(output)"
   ]
  },
  {
   "cell_type": "code",
   "execution_count": 345,
   "metadata": {},
   "outputs": [
    {
     "data": {
      "text/plain": [
       "4"
      ]
     },
     "execution_count": 345,
     "metadata": {},
     "output_type": "execute_result"
    }
   ],
   "source": [
    "config.intermediate_groups"
   ]
  },
  {
   "cell_type": "code",
   "execution_count": 333,
   "metadata": {},
   "outputs": [],
   "source": [
    "imd = ConvActivation(c1, c2, config.intermediate_groups, config.hidden_act)"
   ]
  },
  {
   "cell_type": "code",
   "execution_count": 341,
   "metadata": {},
   "outputs": [
    {
     "data": {
      "text/plain": [
       "torch.Size([8, 3072, 30])"
      ]
     },
     "execution_count": 341,
     "metadata": {},
     "output_type": "execute_result"
    }
   ],
   "source": [
    "fc_out = imd(attn_output)\n",
    "fc_out.size()"
   ]
  },
  {
   "cell_type": "code",
   "execution_count": 340,
   "metadata": {},
   "outputs": [],
   "source": [
    "fo = ConvDropoutLayerNorm(c2, c3, config.output_groups, dropout_prob=config.hidden_dropout_prob)"
   ]
  },
  {
   "cell_type": "code",
   "execution_count": 344,
   "metadata": {},
   "outputs": [
    {
     "data": {
      "text/plain": [
       "torch.Size([8, 768, 30])"
      ]
     },
     "execution_count": 344,
     "metadata": {},
     "output_type": "execute_result"
    }
   ],
   "source": [
    "fo(fc_out, attn_output).shape"
   ]
  },
  {
   "cell_type": "code",
   "execution_count": 689,
   "metadata": {},
   "outputs": [
    {
     "data": {
      "text/plain": [
       "(4, 4)"
      ]
     },
     "execution_count": 689,
     "metadata": {},
     "output_type": "execute_result"
    }
   ],
   "source": [
    "config.intermediate_groups, config.output_groups"
   ]
  },
  {
   "cell_type": "markdown",
   "metadata": {},
   "source": [
    "## Conv"
   ]
  },
  {
   "cell_type": "code",
   "execution_count": 683,
   "metadata": {},
   "outputs": [
    {
     "data": {
      "text/plain": [
       "(torch.Size([4, 64, 510]), torch.Size([64, 384, 3]))"
      ]
     },
     "execution_count": 683,
     "metadata": {},
     "output_type": "execute_result"
    }
   ],
   "source": [
    "m = nn.Conv1d(768, 64, 3, stride=1, padding=0, groups=2)\n",
    "# batch_size, hidden_size, seq_len\n",
    "input = torch.randn(4, 768, 512)\n",
    "m(input).shape, m.weight.shape"
   ]
  },
  {
   "cell_type": "code",
   "execution_count": 686,
   "metadata": {},
   "outputs": [
    {
     "name": "stdout",
     "output_type": "stream",
     "text": [
      "(3, 384, 64) (64,)\n",
      "(3, 384, 64) (64,)\n"
     ]
    },
    {
     "data": {
      "text/plain": [
       "TensorShape([4, 510, 64])"
      ]
     },
     "execution_count": 686,
     "metadata": {},
     "output_type": "execute_result"
    }
   ],
   "source": [
    "class CnnTestModel(tf.keras.layers.Layer):\n",
    "    def __init__(self):\n",
    "        super().__init__()\n",
    "        self.n = tf.keras.layers.Conv1D(64, 3, strides=1, padding='valid', groups=2, activation='relu')\n",
    "    \n",
    "    @tf.function(experimental_compile=True)\n",
    "    def call(self, x):\n",
    "        out = self.n(x)\n",
    "        print(self.n.weights[0].shape, self.n.weights[1].shape)\n",
    "        return out\n",
    "\n",
    "ctm = CnnTestModel()\n",
    "# batch_size, seq_len, hidden_size\n",
    "x = tf.random.normal((4, 512, 768))\n",
    "out = ctm(x)\n",
    "out.shape"
   ]
  },
  {
   "cell_type": "code",
   "execution_count": null,
   "metadata": {},
   "outputs": [],
   "source": []
  },
  {
   "cell_type": "code",
   "execution_count": null,
   "metadata": {},
   "outputs": [],
   "source": []
  },
  {
   "cell_type": "code",
   "execution_count": null,
   "metadata": {},
   "outputs": [],
   "source": []
  }
 ],
 "metadata": {
  "kernelspec": {
   "display_name": "Python 3",
   "language": "python",
   "name": "python3"
  },
  "language_info": {
   "codemirror_mode": {
    "name": "ipython",
    "version": 3
   },
   "file_extension": ".py",
   "mimetype": "text/x-python",
   "name": "python",
   "nbconvert_exporter": "python",
   "pygments_lexer": "ipython3",
   "version": "3.7.4"
  },
  "latex_envs": {
   "LaTeX_envs_menu_present": true,
   "autoclose": false,
   "autocomplete": true,
   "bibliofile": "biblio.bib",
   "cite_by": "apalike",
   "current_citInitial": 1,
   "eqLabelWithNumbers": true,
   "eqNumInitial": 1,
   "hotkeys": {
    "equation": "Ctrl-E",
    "itemize": "Ctrl-I"
   },
   "labels_anchors": false,
   "latex_user_defs": false,
   "report_style_numbering": false,
   "user_envs_cfg": false
  },
  "toc": {
   "base_numbering": 1,
   "nav_menu": {},
   "number_sections": true,
   "sideBar": true,
   "skip_h1_title": false,
   "title_cell": "Table of Contents",
   "title_sidebar": "Contents",
   "toc_cell": false,
   "toc_position": {},
   "toc_section_display": true,
   "toc_window_display": false
  }
 },
 "nbformat": 4,
 "nbformat_minor": 2
}
